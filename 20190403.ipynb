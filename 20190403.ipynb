{
 "cells": [
  {
   "cell_type": "code",
   "execution_count": 8,
   "metadata": {},
   "outputs": [],
   "source": [
    "import re\n",
    "from io import BytesIO, StringIO\n",
    "from boto3 import resource\n",
    "from zipfile import ZipFile\n",
    "from datetime import datetime\n",
    "import pandas as pd"
   ]
  },
  {
   "cell_type": "code",
   "execution_count": 27,
   "metadata": {},
   "outputs": [],
   "source": [
    "import findspark\n",
    "findspark.init()"
   ]
  },
  {
   "cell_type": "code",
   "execution_count": 28,
   "metadata": {},
   "outputs": [],
   "source": [
    "from pyspark import SparkConf, SparkContext\n",
    "from pyspark.sql import SQLContext\n",
    "from pyspark.sql.types import Row, StructField, StructType, StringType, DateType, IntegerType"
   ]
  },
  {
   "cell_type": "code",
   "execution_count": 39,
   "metadata": {},
   "outputs": [],
   "source": [
    "conf = SparkConf().setMaster(\"local[4]\").setAppName(\"transport\")\n",
    "sc = SparkContext(conf=conf)\n",
    "sqlContext = SQLContext(sc)"
   ]
  },
  {
   "cell_type": "code",
   "execution_count": 2,
   "metadata": {},
   "outputs": [],
   "source": [
    "bucket_name = \"dtpm-transactions\"\n",
    "s3 = resource(\"s3\")\n",
    "bucket = s3.Bucket(bucket_name)"
   ]
  },
  {
   "cell_type": "code",
   "execution_count": 2,
   "metadata": {},
   "outputs": [],
   "source": [
    "files = []\n",
    "path = \"datasets/20190330.zip\"    \n",
    "# Read the file as a zipfile and process the members\n",
    "with ZipFile(path, mode='r') as zipf:\n",
    "    # for subfile in zipf.namelist():\n",
    "    #     print(subfile)\n",
    "    files = [(name, zipf.read(name)) for name in zipf.namelist()]"
   ]
  },
  {
   "cell_type": "code",
   "execution_count": 4,
   "metadata": {},
   "outputs": [
    {
     "name": "stdout",
     "output_type": "stream",
     "text": [
      "CPU times: user 4min 45s, sys: 4.75 s, total: 4min 50s\n",
      "Wall time: 4min 50s\n"
     ]
    }
   ],
   "source": [
    "%%time\n",
    "files = list(map(lambda file: (file[0], to_parquet(file[1])), files))"
   ]
  },
  {
   "cell_type": "code",
   "execution_count": 5,
   "metadata": {},
   "outputs": [
    {
     "data": {
      "text/plain": [
       "6"
      ]
     },
     "execution_count": 5,
     "metadata": {},
     "output_type": "execute_result"
    }
   ],
   "source": [
    "len(files)"
   ]
  },
  {
   "cell_type": "code",
   "execution_count": 15,
   "metadata": {},
   "outputs": [
    {
     "data": {
      "text/plain": [
       "'home/telefonica/shared/filtered_Lst_Usos_20190326_20190328.CSV'"
      ]
     },
     "execution_count": 15,
     "metadata": {},
     "output_type": "execute_result"
    }
   ],
   "source": [
    "files[5][0]"
   ]
  },
  {
   "cell_type": "code",
   "execution_count": 6,
   "metadata": {},
   "outputs": [
    {
     "name": "stdout",
     "output_type": "stream",
     "text": [
      "CPU times: user 3min 5s, sys: 5.1 s, total: 3min 10s\n",
      "Wall time: 3min 10s\n"
     ]
    }
   ],
   "source": [
    "%%time\n",
    "files = []\n",
    "path = \"datasets/20190330.zip\"    \n",
    "# Read the file as a zipfile and process the members\n",
    "with ZipFile(path, mode='r') as zipf:\n",
    "    # for subfile in zipf.namelist():\n",
    "    #     print(subfile)\n",
    "    files = [(name, to_parquet(zipf.read(name))) for name in zipf.namelist()]"
   ]
  },
  {
   "cell_type": "code",
   "execution_count": null,
   "metadata": {},
   "outputs": [],
   "source": [
    "def transform_dataset(zip_dataset):\n",
    "    \"\"\"\n",
    "    Convert zip dataset into multiple parquet files.\n",
    "    \"\"\"\n",
    "    files = []\n",
    "    \n",
    "    # Decompress .zip\n",
    "    with BytesIO(zip_dataset) as tf:\n",
    "        tf.seek(0)\n",
    "\n",
    "        # Read the file as a zipfile and process the members\n",
    "        with ZipFile(tf, mode='r') as zipf:\n",
    "            # for subfile in zipf.namelist():\n",
    "            #     print(subfile)\n",
    "            files = [(name, zipf.read(name)) for name in zipf.namelist()]"
   ]
  },
  {
   "cell_type": "code",
   "execution_count": 5,
   "metadata": {},
   "outputs": [],
   "source": [
    "def load_trx(csv):\n",
    "    \"\"\"\n",
    "    Load .csv transactions dataset in pandas DataFrame.\n",
    "    \"\"\"\n",
    "    dtype = {\n",
    "        'CODIGOENTIDAD': 'int',\n",
    "        'NOMBREENTIDAD': 'object',\n",
    "        'CODIGOSITIO': 'int',\n",
    "        'NOMBRESITIO': 'object',\n",
    "        'NROTARJETA': 'object'\n",
    "    }\n",
    "    df = pd.read_csv(BytesIO(csv), sep=\";\", encoding=\"cp1252\", usecols=[i for i in range(6)], dtype=dtype)\n",
    "    df[\"FECHAHORATRX\"] = pd.to_datetime(df[\"FECHAHORATRX\"], format=\"%d/%m/%Y %H:%M:%S\", errors='coerce')\n",
    "    df.columns = [x.lower() for x in df.columns]\n",
    "    return df"
   ]
  },
  {
   "cell_type": "code",
   "execution_count": 4,
   "metadata": {},
   "outputs": [
    {
     "data": {
      "text/plain": [
       "'home/telefonica/shared/filtered_Lst_Usos_20190321_20190323.CSV'"
      ]
     },
     "execution_count": 4,
     "metadata": {},
     "output_type": "execute_result"
    }
   ],
   "source": [
    "files[0][0]"
   ]
  },
  {
   "cell_type": "code",
   "execution_count": 52,
   "metadata": {},
   "outputs": [],
   "source": [
    "# path = \"datasets/day=20190330/from=20190321/to=20190323/data.parquet\"\n",
    "path = \"datasets/20190330-pandas-2.parquet\""
   ]
  },
  {
   "cell_type": "code",
   "execution_count": 53,
   "metadata": {},
   "outputs": [],
   "source": [
    "files[0][1].to_parquet(path, compression=\"gzip\")"
   ]
  },
  {
   "cell_type": "code",
   "execution_count": 54,
   "metadata": {},
   "outputs": [
    {
     "name": "stdout",
     "output_type": "stream",
     "text": [
      "CPU times: user 2.15 ms, sys: 47 µs, total: 2.2 ms\n",
      "Wall time: 106 ms\n"
     ]
    }
   ],
   "source": [
    "%%time\n",
    "df = sqlContext.read.load(path)"
   ]
  },
  {
   "cell_type": "code",
   "execution_count": 55,
   "metadata": {},
   "outputs": [
    {
     "name": "stdout",
     "output_type": "stream",
     "text": [
      "root\n",
      " |-- fechahoratrx: timestamp (nullable = true)\n",
      " |-- codigoentidad: long (nullable = true)\n",
      " |-- nombreentidad: string (nullable = true)\n",
      " |-- codigositio: long (nullable = true)\n",
      " |-- nombresitio: string (nullable = true)\n",
      " |-- nrotarjeta: string (nullable = true)\n",
      "\n"
     ]
    }
   ],
   "source": [
    "df.printSchema()"
   ]
  },
  {
   "cell_type": "code",
   "execution_count": 56,
   "metadata": {},
   "outputs": [
    {
     "name": "stdout",
     "output_type": "stream",
     "text": [
      "+-------------------+-------------+-------------+-----------+-----------+--------------------+\n",
      "|       fechahoratrx|codigoentidad|nombreentidad|codigositio|nombresitio|          nrotarjeta|\n",
      "+-------------------+-------------+-------------+-----------+-----------+--------------------+\n",
      "|2019-03-04 05:03:18|            4| U4 - Express|       5481|    ZN-6170|b53396bd54f1a9074...|\n",
      "|2019-03-04 05:04:36|            4| U4 - Express|       5481|    ZN-6170|e36d3cc7c504835ee...|\n",
      "|2019-03-04 05:11:24|            4| U4 - Express|       5481|    ZN-6170|798decfe9fba0f696...|\n",
      "|2019-03-04 05:16:33|            4| U4 - Express|       5481|    ZN-6170|041eccfdbe14a4864...|\n",
      "|2019-03-04 05:28:24|            4| U4 - Express|       5481|    ZN-6170|617dea27d7ec8be7f...|\n",
      "|2019-03-04 05:34:14|            4| U4 - Express|       5481|    ZN-6170|8c8b6eb2c34befa2f...|\n",
      "|2019-03-04 05:39:49|            4| U4 - Express|       5481|    ZN-6170|3c5211b4589104bda...|\n",
      "|2019-03-04 05:57:07|            4| U4 - Express|       5481|    ZN-6170|5082549ae2ef07bd4...|\n",
      "|2019-03-04 06:01:01|            4| U4 - Express|       5481|    ZN-6170|c784eb9ce1a22482c...|\n",
      "|2019-03-04 06:04:57|            4| U4 - Express|       5481|    ZN-6170|df3477d997529650c...|\n",
      "|2019-03-04 06:05:01|            4| U4 - Express|       5481|    ZN-6170|0264487a636565cdc...|\n",
      "|2019-03-04 06:06:28|            4| U4 - Express|       5481|    ZN-6170|8cbe375ea6d4fab7c...|\n",
      "|2019-03-04 06:19:36|            4| U4 - Express|       5481|    ZN-6170|723bd99ffb3a35016...|\n",
      "|2019-03-04 06:28:38|            4| U4 - Express|       5481|    ZN-6170|2015dd823f981fda5...|\n",
      "|2019-03-12 10:24:22|            4| U4 - Express|       4664|    ZN-5413|88acd1b972872ebb2...|\n",
      "|2019-03-12 10:24:23|            4| U4 - Express|       4664|    ZN-5413|42808d8f7da9dc616...|\n",
      "|2019-03-12 10:26:41|            4| U4 - Express|       4664|    ZN-5413|21ca91fdd4225fa82...|\n",
      "|2019-03-12 10:26:49|            4| U4 - Express|       4664|    ZN-5413|d2fc6f95313e390c7...|\n",
      "|2019-03-12 10:28:38|            4| U4 - Express|       4664|    ZN-5413|24460e60b765ae8a3...|\n",
      "|2019-03-12 10:28:40|            4| U4 - Express|       4664|    ZN-5413|ccd6b28ecc1ba71f7...|\n",
      "+-------------------+-------------+-------------+-----------+-----------+--------------------+\n",
      "only showing top 20 rows\n",
      "\n"
     ]
    }
   ],
   "source": [
    "df.show()"
   ]
  },
  {
   "cell_type": "code",
   "execution_count": 57,
   "metadata": {},
   "outputs": [
    {
     "name": "stdout",
     "output_type": "stream",
     "text": [
      "[('fechahoratrx', 0), ('codigoentidad', 0), ('nombreentidad', 0), ('codigositio', 0), ('nombresitio', 0), ('nrotarjeta', 0)]\n",
      "CPU times: user 5.31 ms, sys: 102 µs, total: 5.41 ms\n",
      "Wall time: 416 ms\n"
     ]
    }
   ],
   "source": [
    "%%time\n",
    "missing_values = [(column, df.where(df[column].isNull()).count()) for column in df.columns]\n",
    "print(missing_values)"
   ]
  },
  {
   "cell_type": "markdown",
   "metadata": {},
   "source": [
    "### Without Arrow"
   ]
  },
  {
   "cell_type": "code",
   "execution_count": 40,
   "metadata": {},
   "outputs": [
    {
     "name": "stdout",
     "output_type": "stream",
     "text": [
      "CPU times: user 2.33 ms, sys: 0 ns, total: 2.33 ms\n",
      "Wall time: 142 ms\n"
     ]
    }
   ],
   "source": [
    "%%time\n",
    "df = sqlContext.read.load(path)"
   ]
  },
  {
   "cell_type": "code",
   "execution_count": 58,
   "metadata": {},
   "outputs": [
    {
     "name": "stdout",
     "output_type": "stream",
     "text": [
      "root\n",
      " |-- fechahoratrx: timestamp (nullable = true)\n",
      " |-- codigoentidad: long (nullable = true)\n",
      " |-- nombreentidad: string (nullable = true)\n",
      " |-- codigositio: long (nullable = true)\n",
      " |-- nombresitio: string (nullable = true)\n",
      " |-- nrotarjeta: string (nullable = true)\n",
      "\n"
     ]
    }
   ],
   "source": [
    "df.printSchema()"
   ]
  },
  {
   "cell_type": "code",
   "execution_count": 42,
   "metadata": {},
   "outputs": [
    {
     "name": "stdout",
     "output_type": "stream",
     "text": [
      "[('fechahoratrx', 0), ('codigoentidad', 0), ('nombreentidad', 0), ('codigositio', 0), ('nombresitio', 0), ('nrotarjeta', 0)]\n",
      "CPU times: user 1.9 ms, sys: 7.96 ms, total: 9.86 ms\n",
      "Wall time: 559 ms\n"
     ]
    }
   ],
   "source": [
    "%%time\n",
    "missing_values = [(column, df.where(df[column].isNull()).count()) for column in df.columns]\n",
    "print(missing_values)"
   ]
  },
  {
   "cell_type": "markdown",
   "metadata": {},
   "source": [
    "### Save in S3"
   ]
  },
  {
   "cell_type": "code",
   "execution_count": 7,
   "metadata": {},
   "outputs": [],
   "source": [
    "bucket_name = \"transantiago/\"\n",
    "s3 = resource(\"s3\")\n",
    "bucket = s3.Bucket(bucket_name)\n",
    "path = bucket_name + \"test/\"\n",
    "filename = \"20190330.parquet\""
   ]
  },
  {
   "cell_type": "code",
   "execution_count": null,
   "metadata": {},
   "outputs": [],
   "source": []
  },
  {
   "cell_type": "code",
   "execution_count": 1,
   "metadata": {},
   "outputs": [
    {
     "data": {
      "text/plain": [
       "2"
      ]
     },
     "execution_count": 1,
     "metadata": {},
     "output_type": "execute_result"
    }
   ],
   "source": [
    "1 + 1"
   ]
  },
  {
   "cell_type": "code",
   "execution_count": 2,
   "metadata": {},
   "outputs": [
    {
     "ename": "NameError",
     "evalue": "name 'StringIO' is not defined",
     "output_type": "error",
     "traceback": [
      "\u001b[0;31m---------------------------------------------------------------------------\u001b[0m",
      "\u001b[0;31mNameError\u001b[0m                                 Traceback (most recent call last)",
      "\u001b[0;32m<timed exec>\u001b[0m in \u001b[0;36m<module>\u001b[0;34m\u001b[0m\n",
      "\u001b[0;31mNameError\u001b[0m: name 'StringIO' is not defined"
     ]
    }
   ],
   "source": [
    "%%time\n",
    "csv_buffer = StringIO()\n",
    "files[0][1].to_parquet(csv_buffer, compression='gzip')"
   ]
  },
  {
   "cell_type": "code",
   "execution_count": null,
   "metadata": {},
   "outputs": [],
   "source": [
    "%%time\n",
    "s3.Object(path, filename).put(Body=csv_buffer.getvalue())"
   ]
  },
  {
   "cell_type": "code",
   "execution_count": null,
   "metadata": {},
   "outputs": [],
   "source": [
    "def to_s3(dataset, bucket, file_name):\n",
    "    csv_buffer = StringIO()\n",
    "    files[0][1].to_parquet(csv_buffer, compression='gzip')\n",
    "    s3.Object(path, filename).put(Body=csv_buffer.getvalue())"
   ]
  }
 ],
 "metadata": {
  "kernelspec": {
   "display_name": "adl",
   "language": "python",
   "name": "adl"
  },
  "language_info": {
   "codemirror_mode": {
    "name": "ipython",
    "version": 3
   },
   "file_extension": ".py",
   "mimetype": "text/x-python",
   "name": "python",
   "nbconvert_exporter": "python",
   "pygments_lexer": "ipython3",
   "version": "3.6.7"
  }
 },
 "nbformat": 4,
 "nbformat_minor": 2
}
