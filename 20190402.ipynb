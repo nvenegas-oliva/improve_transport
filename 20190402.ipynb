{
 "cells": [
  {
   "cell_type": "code",
   "execution_count": 1,
   "metadata": {},
   "outputs": [],
   "source": [
    "import re\n",
    "from io import BytesIO\n",
    "from boto3 import resource\n",
    "from zipfile import ZipFile\n",
    "from datetime import datetime"
   ]
  },
  {
   "cell_type": "code",
   "execution_count": 2,
   "metadata": {},
   "outputs": [],
   "source": [
    "import findspark\n",
    "findspark.init()"
   ]
  },
  {
   "cell_type": "code",
   "execution_count": 3,
   "metadata": {},
   "outputs": [],
   "source": [
    "from pyspark import SparkConf, SparkContext\n",
    "from pyspark.sql import SQLContext\n",
    "from pyspark.sql.types import Row, StructField, StructType, StringType, DateType, IntegerType"
   ]
  },
  {
   "cell_type": "code",
   "execution_count": 4,
   "metadata": {},
   "outputs": [],
   "source": [
    "conf = SparkConf().setMaster(\"local[4]\").setAppName(\"transport\")\n",
    "sc = SparkContext(conf=conf)\n",
    "sqlContext = SQLContext(sc)"
   ]
  },
  {
   "cell_type": "code",
   "execution_count": 5,
   "metadata": {},
   "outputs": [],
   "source": [
    "bucket_name = \"dtpm-transactions\"\n",
    "s3 = resource(\"s3\")\n",
    "bucket = s3.Bucket(bucket_name)"
   ]
  },
  {
   "cell_type": "code",
   "execution_count": 6,
   "metadata": {},
   "outputs": [
    {
     "name": "stdout",
     "output_type": "stream",
     "text": [
      "20180818.zip\n"
     ]
    }
   ],
   "source": [
    "for obj in bucket.objects.all():\n",
    "    # Do not convert the respaldo or another folder.\n",
    "    if bool(re.match(r\"^[0-9]*.zip\", obj.key)):\n",
    "        print(obj.key)\n",
    "        response = obj.get()\n",
    "        dataset = response['Body'].read()\n",
    "        # Uncompress .zip\n",
    "        # Validate zip structure\n",
    "        # Validate do not exist files with the same name\n",
    "\n",
    "        # Create RDD or DataFrame\n",
    "\n",
    "        # Build eschema\n",
    "\n",
    "        # Save as parquet\n",
    "        break"
   ]
  },
  {
   "cell_type": "code",
   "execution_count": 7,
   "metadata": {},
   "outputs": [],
   "source": [
    "with BytesIO(dataset) as tf:\n",
    "    tf.seek(0)\n",
    "\n",
    "    # Read the file as a zipfile and process the members\n",
    "    with ZipFile(tf, mode='r') as zipf:\n",
    "        # for subfile in zipf.namelist():\n",
    "        #     print(subfile)\n",
    "        data = {name: zipf.read(name) for name in zipf.namelist()}"
   ]
  },
  {
   "cell_type": "code",
   "execution_count": 8,
   "metadata": {},
   "outputs": [],
   "source": [
    "file = 'home/telefonica/shared/filtered_Lst_Usos_20180812_20180814.CSV'"
   ]
  },
  {
   "cell_type": "markdown",
   "metadata": {},
   "source": [
    "csv = BytesIO(data[file]).read().decode('cp1252').split('\\n')"
   ]
  },
  {
   "cell_type": "code",
   "execution_count": 9,
   "metadata": {},
   "outputs": [
    {
     "name": "stdout",
     "output_type": "stream",
     "text": [
      "CPU times: user 1.68 s, sys: 455 ms, total: 2.14 s\n",
      "Wall time: 2.61 s\n"
     ]
    }
   ],
   "source": [
    "%%time\n",
    "# rdd = sc.parallelize(csv).map(lambda a: a.split(\";\")[:-1])\n",
    "rdd = sc.parallelize(BytesIO(data[file]).read().decode('cp1252').split('\\n')).map(lambda a: a.split(\";\")[:-1])"
   ]
  },
  {
   "cell_type": "code",
   "execution_count": 12,
   "metadata": {},
   "outputs": [
    {
     "data": {
      "text/plain": [
       "pyspark.conf.SparkConf"
      ]
     },
     "execution_count": 12,
     "metadata": {},
     "output_type": "execute_result"
    }
   ],
   "source": [
    "type(sc._conf)"
   ]
  },
  {
   "cell_type": "code",
   "execution_count": 13,
   "metadata": {},
   "outputs": [
    {
     "data": {
      "text/plain": [
       "[('spark.master', 'local[4]'),\n",
       " ('spark.rdd.compress', 'True'),\n",
       " ('spark.app.name', 'transport'),\n",
       " ('spark.serializer.objectStreamReset', '100'),\n",
       " ('spark.executor.id', 'driver'),\n",
       " ('spark.submit.deployMode', 'client'),\n",
       " ('spark.app.id', 'local-1554245490907'),\n",
       " ('spark.driver.memory', '16g'),\n",
       " ('spark.ui.showConsoleProgress', 'true'),\n",
       " ('spark.driver.port', '33319'),\n",
       " ('spark.driver.host', '192.168.0.18')]"
      ]
     },
     "execution_count": 13,
     "metadata": {},
     "output_type": "execute_result"
    }
   ],
   "source": [
    "sc._conf.getAll()"
   ]
  },
  {
   "cell_type": "code",
   "execution_count": 14,
   "metadata": {},
   "outputs": [
    {
     "data": {
      "text/plain": [
       "['FECHAHORATRX',\n",
       " 'CODIGOENTIDAD',\n",
       " 'NOMBREENTIDAD',\n",
       " 'CODIGOSITIO',\n",
       " 'NOMBRESITIO',\n",
       " 'NROTARJETA']"
      ]
     },
     "execution_count": 14,
     "metadata": {},
     "output_type": "execute_result"
    }
   ],
   "source": [
    "header = rdd.first()\n",
    "header"
   ]
  },
  {
   "cell_type": "code",
   "execution_count": 15,
   "metadata": {},
   "outputs": [
    {
     "data": {
      "text/plain": [
       "2668726"
      ]
     },
     "execution_count": 15,
     "metadata": {},
     "output_type": "execute_result"
    }
   ],
   "source": [
    "rdd.count()"
   ]
  },
  {
   "cell_type": "code",
   "execution_count": 16,
   "metadata": {},
   "outputs": [],
   "source": [
    "rdd = rdd.filter(lambda row: row != header and len(row) == 6)"
   ]
  },
  {
   "cell_type": "code",
   "execution_count": 17,
   "metadata": {},
   "outputs": [
    {
     "data": {
      "text/plain": [
       "2668724"
      ]
     },
     "execution_count": 17,
     "metadata": {},
     "output_type": "execute_result"
    }
   ],
   "source": [
    "rdd.count()"
   ]
  },
  {
   "cell_type": "code",
   "execution_count": 18,
   "metadata": {},
   "outputs": [],
   "source": [
    "schema = StructType([StructField(\"fechahoratrx\", DateType(), False),\n",
    "                     StructField(\"codigoentidad\", IntegerType(), False),\n",
    "                     StructField(\"nombreentidad\", StringType(), False),\n",
    "                     StructField(\"codigositio\", IntegerType(), False),\n",
    "                     StructField(\"nombresitio\", StringType(), False),\n",
    "                     StructField(\"nrotarjeta\", StringType(), False)])"
   ]
  },
  {
   "cell_type": "code",
   "execution_count": 19,
   "metadata": {},
   "outputs": [
    {
     "data": {
      "text/plain": [
       "[['05/08/2018 11:09:04',\n",
       "  '5',\n",
       "  'U5 - Metropolitana',\n",
       "  '5896',\n",
       "  'FLXR-60',\n",
       "  '7c842ff9dfcdd0af7ab54c7b61b9b20c0d96efc1b4d7c860005b5906b7b10386'],\n",
       " ['05/08/2018 11:22:25',\n",
       "  '5',\n",
       "  'U5 - Metropolitana',\n",
       "  '5896',\n",
       "  'FLXR-60',\n",
       "  '5b92190b6a286b211e09c56f58265ed33afb83323be553bc60f26c44ccd77b2e'],\n",
       " ['05/08/2018 11:38:20',\n",
       "  '5',\n",
       "  'U5 - Metropolitana',\n",
       "  '5896',\n",
       "  'FLXR-60',\n",
       "  '011f68818a273394cbdd1ebd4d9031bdd73aab93bc5645b3ef157ea337d36b4c'],\n",
       " ['05/08/2018 11:38:23',\n",
       "  '5',\n",
       "  'U5 - Metropolitana',\n",
       "  '5896',\n",
       "  'FLXR-60',\n",
       "  '1d220bc9fa949b093da03b4a3824235de9a3cfb6200aa9406107a962fa744741'],\n",
       " ['05/08/2018 12:38:59',\n",
       "  '5',\n",
       "  'U5 - Metropolitana',\n",
       "  '5896',\n",
       "  'FLXR-60',\n",
       "  '655b6f560616f41a622e50f7bb8856bca2a32a2afc8eebacd61c7a6cec4de71c']]"
      ]
     },
     "execution_count": 19,
     "metadata": {},
     "output_type": "execute_result"
    }
   ],
   "source": [
    "rdd.take(5)"
   ]
  },
  {
   "cell_type": "code",
   "execution_count": 20,
   "metadata": {},
   "outputs": [],
   "source": [
    "rdd = rdd.map(lambda x: [datetime.strptime(x[0], \"%d/%m/%Y %H:%M:%S\"), int(x[1]), x[2], int(x[3]), x[4], x[5]])"
   ]
  },
  {
   "cell_type": "code",
   "execution_count": 21,
   "metadata": {},
   "outputs": [
    {
     "data": {
      "text/plain": [
       "[[datetime.datetime(2018, 8, 5, 11, 9, 4),\n",
       "  5,\n",
       "  'U5 - Metropolitana',\n",
       "  5896,\n",
       "  'FLXR-60',\n",
       "  '7c842ff9dfcdd0af7ab54c7b61b9b20c0d96efc1b4d7c860005b5906b7b10386'],\n",
       " [datetime.datetime(2018, 8, 5, 11, 22, 25),\n",
       "  5,\n",
       "  'U5 - Metropolitana',\n",
       "  5896,\n",
       "  'FLXR-60',\n",
       "  '5b92190b6a286b211e09c56f58265ed33afb83323be553bc60f26c44ccd77b2e'],\n",
       " [datetime.datetime(2018, 8, 5, 11, 38, 20),\n",
       "  5,\n",
       "  'U5 - Metropolitana',\n",
       "  5896,\n",
       "  'FLXR-60',\n",
       "  '011f68818a273394cbdd1ebd4d9031bdd73aab93bc5645b3ef157ea337d36b4c'],\n",
       " [datetime.datetime(2018, 8, 5, 11, 38, 23),\n",
       "  5,\n",
       "  'U5 - Metropolitana',\n",
       "  5896,\n",
       "  'FLXR-60',\n",
       "  '1d220bc9fa949b093da03b4a3824235de9a3cfb6200aa9406107a962fa744741'],\n",
       " [datetime.datetime(2018, 8, 5, 12, 38, 59),\n",
       "  5,\n",
       "  'U5 - Metropolitana',\n",
       "  5896,\n",
       "  'FLXR-60',\n",
       "  '655b6f560616f41a622e50f7bb8856bca2a32a2afc8eebacd61c7a6cec4de71c']]"
      ]
     },
     "execution_count": 21,
     "metadata": {},
     "output_type": "execute_result"
    }
   ],
   "source": [
    "rdd.take(5)"
   ]
  },
  {
   "cell_type": "code",
   "execution_count": 22,
   "metadata": {},
   "outputs": [
    {
     "name": "stdout",
     "output_type": "stream",
     "text": [
      "+------------+-------------+------------------+-----------+-----------+--------------------+\n",
      "|fechahoratrx|codigoentidad|     nombreentidad|codigositio|nombresitio|          nrotarjeta|\n",
      "+------------+-------------+------------------+-----------+-----------+--------------------+\n",
      "|  2018-08-05|            5|U5 - Metropolitana|       5896|    FLXR-60|7c842ff9dfcdd0af7...|\n",
      "|  2018-08-05|            5|U5 - Metropolitana|       5896|    FLXR-60|5b92190b6a286b211...|\n",
      "|  2018-08-05|            5|U5 - Metropolitana|       5896|    FLXR-60|011f68818a273394c...|\n",
      "|  2018-08-05|            5|U5 - Metropolitana|       5896|    FLXR-60|1d220bc9fa949b093...|\n",
      "|  2018-08-05|            5|U5 - Metropolitana|       5896|    FLXR-60|655b6f560616f41a6...|\n",
      "|  2018-08-05|            5|U5 - Metropolitana|       5896|    FLXR-60|af7438f07ec20a016...|\n",
      "|  2018-08-05|            5|U5 - Metropolitana|       5896|    FLXR-60|4c0f58654923c35e6...|\n",
      "|  2018-08-05|            5|U5 - Metropolitana|       5896|    FLXR-60|982944657f1cf4b69...|\n",
      "|  2018-08-05|            5|U5 - Metropolitana|       5896|    FLXR-60|b298d6772c67e331c...|\n",
      "|  2018-08-05|            5|U5 - Metropolitana|       5896|    FLXR-60|79493fceeabd6fd48...|\n",
      "|  2018-08-05|           13|       U6 - Redbus|       2607|    CJRC-98|bf427a2bcadcc69e5...|\n",
      "|  2018-08-05|            5|U5 - Metropolitana|       5896|    FLXR-60|f72a9bae565dd46ef...|\n",
      "|  2018-08-05|            5|U5 - Metropolitana|       5896|    FLXR-60|0a4e47b1de616a50e...|\n",
      "|  2018-08-05|            5|U5 - Metropolitana|       5896|    FLXR-60|67b80e1a65436093d...|\n",
      "|  2018-08-05|            5|U5 - Metropolitana|       5896|    FLXR-60|4f7485c8678c62ef2...|\n",
      "|  2018-08-05|            5|U5 - Metropolitana|       5896|    FLXR-60|6f7c759968d203a73...|\n",
      "|  2018-08-05|            5|U5 - Metropolitana|       5896|    FLXR-60|d06c3fc18f2ee7267...|\n",
      "|  2018-08-05|            5|U5 - Metropolitana|       5896|    FLXR-60|0a549642b40c3929f...|\n",
      "|  2018-08-05|           13|       U6 - Redbus|       2607|    CJRC-98|8925b410671b5c8a4...|\n",
      "|  2018-08-05|            5|U5 - Metropolitana|       5896|    FLXR-60|12bc13ba8ee581ae3...|\n",
      "+------------+-------------+------------------+-----------+-----------+--------------------+\n",
      "only showing top 20 rows\n",
      "\n"
     ]
    }
   ],
   "source": [
    "df = sqlContext.createDataFrame(rdd, schema)\n",
    "df.show()"
   ]
  },
  {
   "cell_type": "code",
   "execution_count": 24,
   "metadata": {},
   "outputs": [
    {
     "name": "stdout",
     "output_type": "stream",
     "text": [
      "root\n",
      " |-- fechahoratrx: date (nullable = false)\n",
      " |-- codigoentidad: integer (nullable = false)\n",
      " |-- nombreentidad: string (nullable = false)\n",
      " |-- codigositio: integer (nullable = false)\n",
      " |-- nombresitio: string (nullable = false)\n",
      " |-- nrotarjeta: string (nullable = false)\n",
      "\n"
     ]
    }
   ],
   "source": [
    "df.printSchema()"
   ]
  },
  {
   "cell_type": "code",
   "execution_count": 25,
   "metadata": {},
   "outputs": [
    {
     "name": "stdout",
     "output_type": "stream",
     "text": [
      "+-------------------+-------------+------------------+-----------+-----------+--------------------+\n",
      "|       fechahoratrx|codigoentidad|     nombreentidad|codigositio|nombresitio|          nrotarjeta|\n",
      "+-------------------+-------------+------------------+-----------+-----------+--------------------+\n",
      "|2018-08-05 11:09:04|            5|U5 - Metropolitana|       5896|    FLXR-60|7c842ff9dfcdd0af7...|\n",
      "|2018-08-05 11:22:25|            5|U5 - Metropolitana|       5896|    FLXR-60|5b92190b6a286b211...|\n",
      "|2018-08-05 11:38:20|            5|U5 - Metropolitana|       5896|    FLXR-60|011f68818a273394c...|\n",
      "|2018-08-05 11:38:23|            5|U5 - Metropolitana|       5896|    FLXR-60|1d220bc9fa949b093...|\n",
      "|2018-08-05 12:38:59|            5|U5 - Metropolitana|       5896|    FLXR-60|655b6f560616f41a6...|\n",
      "|2018-08-05 12:47:27|            5|U5 - Metropolitana|       5896|    FLXR-60|af7438f07ec20a016...|\n",
      "|2018-08-05 12:47:37|            5|U5 - Metropolitana|       5896|    FLXR-60|4c0f58654923c35e6...|\n",
      "|2018-08-05 12:55:06|            5|U5 - Metropolitana|       5896|    FLXR-60|982944657f1cf4b69...|\n",
      "|2018-08-05 13:42:30|            5|U5 - Metropolitana|       5896|    FLXR-60|b298d6772c67e331c...|\n",
      "|2018-08-05 13:51:10|            5|U5 - Metropolitana|       5896|    FLXR-60|79493fceeabd6fd48...|\n",
      "|2018-08-05 14:29:20|           13|       U6 - Redbus|       2607|    CJRC-98|bf427a2bcadcc69e5...|\n",
      "|2018-08-05 14:52:22|            5|U5 - Metropolitana|       5896|    FLXR-60|f72a9bae565dd46ef...|\n",
      "|2018-08-05 14:52:25|            5|U5 - Metropolitana|       5896|    FLXR-60|0a4e47b1de616a50e...|\n",
      "|2018-08-05 14:52:28|            5|U5 - Metropolitana|       5896|    FLXR-60|67b80e1a65436093d...|\n",
      "|2018-08-05 14:52:30|            5|U5 - Metropolitana|       5896|    FLXR-60|4f7485c8678c62ef2...|\n",
      "|2018-08-05 15:00:37|            5|U5 - Metropolitana|       5896|    FLXR-60|6f7c759968d203a73...|\n",
      "|2018-08-05 15:00:40|            5|U5 - Metropolitana|       5896|    FLXR-60|d06c3fc18f2ee7267...|\n",
      "|2018-08-05 15:14:23|            5|U5 - Metropolitana|       5896|    FLXR-60|0a549642b40c3929f...|\n",
      "|2018-08-05 15:25:57|           13|       U6 - Redbus|       2607|    CJRC-98|8925b410671b5c8a4...|\n",
      "|2018-08-05 15:26:14|            5|U5 - Metropolitana|       5896|    FLXR-60|12bc13ba8ee581ae3...|\n",
      "+-------------------+-------------+------------------+-----------+-----------+--------------------+\n",
      "only showing top 20 rows\n",
      "\n"
     ]
    }
   ],
   "source": [
    "df = rdd.toDF(list(map(lambda a: a.lower(), header)))\n",
    "df.show()"
   ]
  },
  {
   "cell_type": "code",
   "execution_count": 26,
   "metadata": {},
   "outputs": [
    {
     "name": "stdout",
     "output_type": "stream",
     "text": [
      "root\n",
      " |-- fechahoratrx: timestamp (nullable = true)\n",
      " |-- codigoentidad: long (nullable = true)\n",
      " |-- nombreentidad: string (nullable = true)\n",
      " |-- codigositio: long (nullable = true)\n",
      " |-- nombresitio: string (nullable = true)\n",
      " |-- nrotarjeta: string (nullable = true)\n",
      "\n"
     ]
    }
   ],
   "source": [
    "df.printSchema()"
   ]
  },
  {
   "cell_type": "code",
   "execution_count": 27,
   "metadata": {},
   "outputs": [],
   "source": [
    "import pandas as pd"
   ]
  },
  {
   "cell_type": "code",
   "execution_count": 28,
   "metadata": {},
   "outputs": [],
   "source": [
    "df_p = pd.read_csv(BytesIO(data[file]), sep=\";\", encoding=\"cp1252\", usecols=[i for i in range(6)])"
   ]
  },
  {
   "cell_type": "code",
   "execution_count": 29,
   "metadata": {},
   "outputs": [
    {
     "name": "stdout",
     "output_type": "stream",
     "text": [
      "<class 'pandas.core.frame.DataFrame'>\n",
      "RangeIndex: 2668724 entries, 0 to 2668723\n",
      "Data columns (total 6 columns):\n",
      "FECHAHORATRX     object\n",
      "CODIGOENTIDAD    int64\n",
      "NOMBREENTIDAD    object\n",
      "CODIGOSITIO      int64\n",
      "NOMBRESITIO      object\n",
      "NROTARJETA       object\n",
      "dtypes: int64(2), object(4)\n",
      "memory usage: 122.2+ MB\n"
     ]
    }
   ],
   "source": [
    "df_p.info()"
   ]
  },
  {
   "cell_type": "code",
   "execution_count": 31,
   "metadata": {},
   "outputs": [],
   "source": [
    "df_toPandas = df.toPandas()"
   ]
  },
  {
   "cell_type": "code",
   "execution_count": 32,
   "metadata": {},
   "outputs": [
    {
     "name": "stdout",
     "output_type": "stream",
     "text": [
      "<class 'pandas.core.frame.DataFrame'>\n",
      "RangeIndex: 2668724 entries, 0 to 2668723\n",
      "Data columns (total 6 columns):\n",
      "fechahoratrx     datetime64[ns]\n",
      "codigoentidad    int64\n",
      "nombreentidad    object\n",
      "codigositio      int64\n",
      "nombresitio      object\n",
      "nrotarjeta       object\n",
      "dtypes: datetime64[ns](1), int64(2), object(3)\n",
      "memory usage: 122.2+ MB\n"
     ]
    }
   ],
   "source": [
    "df_toPandas.info()"
   ]
  },
  {
   "cell_type": "code",
   "execution_count": null,
   "metadata": {},
   "outputs": [],
   "source": [
    "df.toPandas() == df_p"
   ]
  },
  {
   "cell_type": "code",
   "execution_count": 19,
   "metadata": {},
   "outputs": [],
   "source": [
    "sc.stop()"
   ]
  },
  {
   "cell_type": "code",
   "execution_count": null,
   "metadata": {},
   "outputs": [],
   "source": []
  }
 ],
 "metadata": {
  "kernelspec": {
   "display_name": "adl",
   "language": "python",
   "name": "adl"
  },
  "language_info": {
   "codemirror_mode": {
    "name": "ipython",
    "version": 3
   },
   "file_extension": ".py",
   "mimetype": "text/x-python",
   "name": "python",
   "nbconvert_exporter": "python",
   "pygments_lexer": "ipython3",
   "version": "3.6.7"
  }
 },
 "nbformat": 4,
 "nbformat_minor": 2
}
