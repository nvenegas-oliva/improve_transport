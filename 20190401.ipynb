{
 "cells": [
  {
   "cell_type": "code",
   "execution_count": 1,
   "metadata": {},
   "outputs": [],
   "source": [
    "from glob import glob"
   ]
  },
  {
   "cell_type": "code",
   "execution_count": 2,
   "metadata": {},
   "outputs": [],
   "source": [
    "import findspark\n",
    "findspark.init()"
   ]
  },
  {
   "cell_type": "code",
   "execution_count": 3,
   "metadata": {},
   "outputs": [],
   "source": [
    "from pyspark.sql import SparkSession"
   ]
  },
  {
   "cell_type": "code",
   "execution_count": 4,
   "metadata": {},
   "outputs": [],
   "source": [
    "spark = SparkSession.builder.appName(\"transport\").getOrCreate()"
   ]
  },
  {
   "cell_type": "code",
   "execution_count": 5,
   "metadata": {},
   "outputs": [
    {
     "data": {
      "text/plain": [
       "pyspark.sql.session.SparkSession"
      ]
     },
     "execution_count": 5,
     "metadata": {},
     "output_type": "execute_result"
    }
   ],
   "source": [
    "type(spark)"
   ]
  },
  {
   "cell_type": "code",
   "execution_count": 6,
   "metadata": {},
   "outputs": [
    {
     "data": {
      "text/plain": [
       "['datasets/20190330/telefonica/shared/filtered_Lst_Usos_20190326_20190328.CSV',\n",
       " 'datasets/20190330/telefonica/shared/filtered_Lst_Usos_20190325_20190327.CSV',\n",
       " 'datasets/20190330/telefonica/shared/filtered_Lst_Usos_20190324_20190326.CSV',\n",
       " 'datasets/20190330/telefonica/shared/filtered_Lst_Usos_20190321_20190323.CSV',\n",
       " 'datasets/20190330/telefonica/shared/filtered_Lst_Usos_20190323_20190325.CSV',\n",
       " 'datasets/20190330/telefonica/shared/filtered_Lst_Usos_20190322_20190324.CSV']"
      ]
     },
     "execution_count": 6,
     "metadata": {},
     "output_type": "execute_result"
    }
   ],
   "source": [
    "path_datasets = \"datasets/\"\n",
    "root_path = \"telefonica/shared/\"\n",
    "\n",
    "all_files = glob(path_datasets + \"20190330/\" + root_path + \"*.CSV\")\n",
    "all_files"
   ]
  },
  {
   "cell_type": "code",
   "execution_count": 7,
   "metadata": {},
   "outputs": [],
   "source": [
    "df = spark.read.csv(path=all_files, header=True, sep=\";\", encoding=\"cp1252\").drop(\"_c6\")"
   ]
  },
  {
   "cell_type": "code",
   "execution_count": 9,
   "metadata": {},
   "outputs": [
    {
     "name": "stdout",
     "output_type": "stream",
     "text": [
      "== Physical Plan ==\n",
      "*(1) FileScan csv [FECHAHORATRX#7,CODIGOENTIDAD#8,NOMBREENTIDAD#9,CODIGOSITIO#10,NOMBRESITIO#11,NROTARJETA#12] Batched: false, Format: CSV, Location: InMemoryFileIndex[file:/home/nicolas/github/improve_transport/datasets/20190330/telefonica/shared..., PartitionFilters: [], PushedFilters: [], ReadSchema: struct<FECHAHORATRX:string,CODIGOENTIDAD:string,NOMBREENTIDAD:string,CODIGOSITIO:string,NOMBRESIT...\n"
     ]
    }
   ],
   "source": [
    "df.explain()"
   ]
  },
  {
   "cell_type": "code",
   "execution_count": 10,
   "metadata": {},
   "outputs": [
    {
     "name": "stdout",
     "output_type": "stream",
     "text": [
      "root\n",
      " |-- FECHAHORATRX: string (nullable = true)\n",
      " |-- CODIGOENTIDAD: string (nullable = true)\n",
      " |-- NOMBREENTIDAD: string (nullable = true)\n",
      " |-- CODIGOSITIO: string (nullable = true)\n",
      " |-- NOMBRESITIO: string (nullable = true)\n",
      " |-- NROTARJETA: string (nullable = true)\n",
      "\n"
     ]
    }
   ],
   "source": [
    "df.printSchema()"
   ]
  },
  {
   "cell_type": "code",
   "execution_count": 12,
   "metadata": {},
   "outputs": [
    {
     "name": "stdout",
     "output_type": "stream",
     "text": [
      "[('FECHAHORATRX', 0), ('CODIGOENTIDAD', 0), ('NOMBREENTIDAD', 0), ('CODIGOSITIO', 0), ('NOMBRESITIO', 0), ('NROTARJETA', 0)]\n",
      "CPU times: user 21.6 ms, sys: 116 µs, total: 21.7 ms\n",
      "Wall time: 2min 3s\n"
     ]
    }
   ],
   "source": [
    "%%time\n",
    "missing_values = [(column, df.where(df[column].isNull()).count()) for column in df.columns]\n",
    "print(missing_values)"
   ]
  },
  {
   "cell_type": "code",
   "execution_count": 13,
   "metadata": {},
   "outputs": [
    {
     "name": "stdout",
     "output_type": "stream",
     "text": [
      "+-------------------+-------------+------------------+-----------+-----------+--------------------+\n",
      "|       FECHAHORATRX|CODIGOENTIDAD|     NOMBREENTIDAD|CODIGOSITIO|NOMBRESITIO|          NROTARJETA|\n",
      "+-------------------+-------------+------------------+-----------+-----------+--------------------+\n",
      "|12/03/2019 08:46:42|            5|U5 - Metropolitana|      15600|    RM-1008|b277725cfc0602849...|\n",
      "|12/03/2019 08:47:02|            5|U5 - Metropolitana|      15600|    RM-1008|3bdf83a509b372b5e...|\n",
      "|12/03/2019 08:47:49|            5|U5 - Metropolitana|      15600|    RM-1008|ba30b9314cea1d3dd...|\n",
      "|12/03/2019 08:48:57|            5|U5 - Metropolitana|      15600|    RM-1008|984a562e74804df47...|\n",
      "|12/03/2019 08:49:06|            5|U5 - Metropolitana|      15600|    RM-1008|bdf711db62f64e8ac...|\n",
      "|12/03/2019 08:49:34|            5|U5 - Metropolitana|      15600|    RM-1008|3ca91a7e8c0f941d0...|\n",
      "|12/03/2019 08:50:33|            5|U5 - Metropolitana|      15600|    RM-1008|5a271041e416388df...|\n",
      "|12/03/2019 08:51:02|            5|U5 - Metropolitana|      15600|    RM-1008|37986d46eba536481...|\n",
      "|12/03/2019 08:51:08|            5|U5 - Metropolitana|      15600|    RM-1008|400c8bb3c776d73c1...|\n",
      "|12/03/2019 08:52:58|            5|U5 - Metropolitana|      15600|    RM-1008|106324ab8b2af29d8...|\n",
      "|12/03/2019 08:53:32|            5|U5 - Metropolitana|      15600|    RM-1008|7872f86faa8d3f950...|\n",
      "|12/03/2019 08:53:36|            5|U5 - Metropolitana|      15600|    RM-1008|1183c6dbed8554658...|\n",
      "|12/03/2019 08:54:18|            5|U5 - Metropolitana|      15600|    RM-1008|3fd29747c1acca6ba...|\n",
      "|12/03/2019 08:54:20|            5|U5 - Metropolitana|      15600|    RM-1008|2d87065f13b6d5f97...|\n",
      "|12/03/2019 08:55:12|            5|U5 - Metropolitana|      15600|    RM-1008|ea921bf7124f759fd...|\n",
      "|12/03/2019 08:56:13|            5|U5 - Metropolitana|      15600|    RM-1008|6806e99a795b3ad05...|\n",
      "|12/03/2019 09:00:03|            5|U5 - Metropolitana|      15600|    RM-1008|4099e311e4e7781c4...|\n",
      "|12/03/2019 09:00:09|            5|U5 - Metropolitana|      15600|    RM-1008|02d69e0d0ec875382...|\n",
      "|12/03/2019 09:00:40|            5|U5 - Metropolitana|      15600|    RM-1008|829c973473b203338...|\n",
      "|12/03/2019 09:00:44|            5|U5 - Metropolitana|      15600|    RM-1008|578f684e63ad5cb6f...|\n",
      "+-------------------+-------------+------------------+-----------+-----------+--------------------+\n",
      "only showing top 20 rows\n",
      "\n"
     ]
    }
   ],
   "source": [
    "df.show()"
   ]
  },
  {
   "cell_type": "code",
   "execution_count": 17,
   "metadata": {},
   "outputs": [
    {
     "name": "stdout",
     "output_type": "stream",
     "text": [
      "CPU times: user 3.83 ms, sys: 5.81 ms, total: 9.64 ms\n",
      "Wall time: 21.5 s\n"
     ]
    },
    {
     "data": {
      "text/plain": [
       "[Row(NOMBREENTIDAD='U2 - Su Bus', count=2197145),\n",
       " Row(NOMBREENTIDAD='U7 - STP', count=1364513),\n",
       " Row(NOMBREENTIDAD='METRO - OT', count=13169085),\n",
       " Row(NOMBREENTIDAD='Tren Central', count=381641),\n",
       " Row(NOMBREENTIDAD='U6 - Redbus', count=1700924),\n",
       " Row(NOMBREENTIDAD='U3 - Vule', count=3106718),\n",
       " Row(NOMBREENTIDAD='U4 - Express', count=3027622),\n",
       " Row(NOMBREENTIDAD='U5 - Metropolitana', count=3359492)]"
      ]
     },
     "execution_count": 17,
     "metadata": {},
     "output_type": "execute_result"
    }
   ],
   "source": [
    "%%time\n",
    "df.groupBy(\"NOMBREENTIDAD\").count().collect()"
   ]
  },
  {
   "cell_type": "markdown",
   "metadata": {},
   "source": [
    "## Using parquet (in snappy)"
   ]
  },
  {
   "cell_type": "code",
   "execution_count": 18,
   "metadata": {},
   "outputs": [],
   "source": [
    "path_parquet = \"datasets/20190330.parquet/\"\n",
    "df = spark.read.load(path_parquet)"
   ]
  },
  {
   "cell_type": "code",
   "execution_count": 19,
   "metadata": {},
   "outputs": [
    {
     "name": "stdout",
     "output_type": "stream",
     "text": [
      "CPU times: user 4.13 ms, sys: 451 µs, total: 4.58 ms\n",
      "Wall time: 2.37 s\n"
     ]
    },
    {
     "data": {
      "text/plain": [
       "[Row(NOMBREENTIDAD='U2 - Su Bus', count=2197145),\n",
       " Row(NOMBREENTIDAD='U7 - STP', count=1364513),\n",
       " Row(NOMBREENTIDAD='METRO - OT', count=13169085),\n",
       " Row(NOMBREENTIDAD='Tren Central', count=381641),\n",
       " Row(NOMBREENTIDAD='U6 - Redbus', count=1700924),\n",
       " Row(NOMBREENTIDAD='U3 - Vule', count=3106718),\n",
       " Row(NOMBREENTIDAD='U4 - Express', count=3027622),\n",
       " Row(NOMBREENTIDAD='U5 - Metropolitana', count=3359492)]"
      ]
     },
     "execution_count": 19,
     "metadata": {},
     "output_type": "execute_result"
    }
   ],
   "source": [
    "%%time\n",
    "df.groupBy(\"NOMBREENTIDAD\").count().collect()"
   ]
  },
  {
   "cell_type": "code",
   "execution_count": 8,
   "metadata": {},
   "outputs": [
    {
     "name": "stdout",
     "output_type": "stream",
     "text": [
      "CPU times: user 13.8 ms, sys: 0 ns, total: 13.8 ms\n",
      "Wall time: 1min 48s\n"
     ]
    }
   ],
   "source": [
    "%%time\n",
    "df.write.parquet(\"datasets/20190330-2.parquet\", compression=\"gzip\")"
   ]
  },
  {
   "cell_type": "code",
   "execution_count": 10,
   "metadata": {},
   "outputs": [
    {
     "name": "stdout",
     "output_type": "stream",
     "text": [
      "2,9G\tdatasets/20190311\n",
      "1,2G\tdatasets/20190311.zip\n",
      "3,1G\tdatasets/20190330\n",
      "1,1G\tdatasets/20190330-2.parquet\n",
      "1,1G\tdatasets/20190330.7z\n",
      "1,9G\tdatasets/20190330.parquet\n",
      "1,3G\tdatasets/20190330.zip\n"
     ]
    }
   ],
   "source": [
    "!du -hs datasets/*"
   ]
  },
  {
   "cell_type": "markdown",
   "metadata": {},
   "source": [
    "## Using parquet (in gzip)"
   ]
  },
  {
   "cell_type": "code",
   "execution_count": 6,
   "metadata": {},
   "outputs": [],
   "source": [
    "path_parquet = \"datasets/20190330-2.parquet/\"\n",
    "df = spark.read.load(path_parquet)"
   ]
  },
  {
   "cell_type": "code",
   "execution_count": 8,
   "metadata": {},
   "outputs": [
    {
     "name": "stdout",
     "output_type": "stream",
     "text": [
      "CPU times: user 4.3 ms, sys: 6.49 ms, total: 10.8 ms\n",
      "Wall time: 3.07 s\n"
     ]
    },
    {
     "data": {
      "text/plain": [
       "[Row(NOMBREENTIDAD='U2 - Su Bus', count=2197145),\n",
       " Row(NOMBREENTIDAD='U7 - STP', count=1364513),\n",
       " Row(NOMBREENTIDAD='METRO - OT', count=13169085),\n",
       " Row(NOMBREENTIDAD='Tren Central', count=381641),\n",
       " Row(NOMBREENTIDAD='U6 - Redbus', count=1700924),\n",
       " Row(NOMBREENTIDAD='U3 - Vule', count=3106718),\n",
       " Row(NOMBREENTIDAD='U4 - Express', count=3027622),\n",
       " Row(NOMBREENTIDAD='U5 - Metropolitana', count=3359492)]"
      ]
     },
     "execution_count": 8,
     "metadata": {},
     "output_type": "execute_result"
    }
   ],
   "source": [
    "%%time\n",
    "df.groupBy(\"NOMBREENTIDAD\").count().collect()"
   ]
  },
  {
   "cell_type": "code",
   "execution_count": 7,
   "metadata": {},
   "outputs": [
    {
     "name": "stdout",
     "output_type": "stream",
     "text": [
      "[('FECHAHORATRX', 0), ('CODIGOENTIDAD', 0), ('NOMBREENTIDAD', 0), ('CODIGOSITIO', 0), ('NOMBRESITIO', 0), ('NROTARJETA', 0)]\n",
      "CPU times: user 6.19 ms, sys: 218 µs, total: 6.41 ms\n",
      "Wall time: 2.35 s\n"
     ]
    }
   ],
   "source": [
    "%%time\n",
    "missing_values = [(column, df.where(df[column].isNull()).count()) for column in df.columns]\n",
    "print(missing_values)"
   ]
  },
  {
   "cell_type": "code",
   "execution_count": 9,
   "metadata": {},
   "outputs": [
    {
     "data": {
      "text/plain": [
       "StructType(List(StructField(FECHAHORATRX,StringType,true),StructField(CODIGOENTIDAD,StringType,true),StructField(NOMBREENTIDAD,StringType,true),StructField(CODIGOSITIO,StringType,true),StructField(NOMBRESITIO,StringType,true),StructField(NROTARJETA,StringType,true)))"
      ]
     },
     "execution_count": 9,
     "metadata": {},
     "output_type": "execute_result"
    }
   ],
   "source": [
    "df.schema"
   ]
  },
  {
   "cell_type": "code",
   "execution_count": null,
   "metadata": {},
   "outputs": [],
   "source": []
  }
 ],
 "metadata": {
  "kernelspec": {
   "display_name": "adl",
   "language": "python",
   "name": "adl"
  },
  "language_info": {
   "codemirror_mode": {
    "name": "ipython",
    "version": 3
   },
   "file_extension": ".py",
   "mimetype": "text/x-python",
   "name": "python",
   "nbconvert_exporter": "python",
   "pygments_lexer": "ipython3",
   "version": "3.6.7"
  }
 },
 "nbformat": 4,
 "nbformat_minor": 2
}
