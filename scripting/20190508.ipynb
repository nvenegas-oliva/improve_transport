{
 "cells": [
  {
   "cell_type": "code",
   "execution_count": 1,
   "metadata": {},
   "outputs": [],
   "source": [
    "from pyspark import SparkContext, SparkConf\n",
    "from pyspark.sql import SQLContext\n",
    "from pyspark.sql import functions as F"
   ]
  },
  {
   "cell_type": "code",
   "execution_count": 2,
   "metadata": {},
   "outputs": [],
   "source": [
    "conf = SparkConf().setMaster(\"local[4]\").setAppName(\"transport\")\n",
    "sc = SparkContext(conf=conf)\n",
    "sqlContext = SQLContext(sc)"
   ]
  },
  {
   "cell_type": "code",
   "execution_count": 3,
   "metadata": {},
   "outputs": [],
   "source": [
    "path = \"file:///home/nicolas/github/improve_transport/datasets/data.parquet/\""
   ]
  },
  {
   "cell_type": "code",
   "execution_count": 4,
   "metadata": {},
   "outputs": [],
   "source": [
    "df = sqlContext.read.parquet(path)"
   ]
  },
  {
   "cell_type": "code",
   "execution_count": 5,
   "metadata": {},
   "outputs": [
    {
     "name": "stdout",
     "output_type": "stream",
     "text": [
      "+-------------------+-------------+------------------+-----------+-----------+--------------------+\n",
      "|       fechahoratrx|codigoentidad|     nombreentidad|codigositio|nombresitio|          nrotarjeta|\n",
      "+-------------------+-------------+------------------+-----------+-----------+--------------------+\n",
      "|2019-02-28 21:00:15|           13|       U6 - Redbus|       2596|    CJRC-35|612d6a01a6158dd63...|\n",
      "|2019-02-28 21:02:39|            5|U5 - Metropolitana|       7660|    FLXG-38|eb7a60b4eb2e7b0a9...|\n",
      "|2019-02-28 21:11:25|            5|U5 - Metropolitana|      11338|    FLXT-94|b4a501a26eaab4f8a...|\n",
      "|2019-02-28 21:14:22|           13|       U6 - Redbus|       2596|    CJRC-35|a727f39a7a85cb6c1...|\n",
      "|2019-02-28 21:17:02|            5|U5 - Metropolitana|      14379|    BJFJ-15|dcb9033eb5920016b...|\n",
      "|2019-02-28 21:17:07|            5|U5 - Metropolitana|      14379|    BJFJ-15|8647ac944c4fa5928...|\n",
      "|2019-02-28 21:20:12|           13|       U6 - Redbus|       2596|    CJRC-35|4339814f270bfab3d...|\n",
      "|2019-02-28 21:21:34|            5|U5 - Metropolitana|       7661|    FLXG-39|e59769c9c65ff87d8...|\n",
      "|2019-02-28 21:21:42|            5|U5 - Metropolitana|       7661|    FLXG-39|49de7c2ab5dee56a0...|\n",
      "|2019-02-28 21:21:44|            5|U5 - Metropolitana|       7661|    FLXG-39|64cc53979994b65e1...|\n",
      "|2019-02-28 21:31:21|            5|U5 - Metropolitana|       7661|    FLXG-39|09c9d7a0b9a78ebb5...|\n",
      "|2019-02-28 21:37:10|            5|U5 - Metropolitana|      14379|    BJFJ-15|720d1760077201b0a...|\n",
      "|2019-02-28 22:01:06|            5|U5 - Metropolitana|       7661|    FLXG-39|1b5f4d29ad5c0a75f...|\n",
      "|2019-02-28 22:01:13|            5|U5 - Metropolitana|       7661|    FLXG-39|98b4b0a4ac617cfb2...|\n",
      "|2019-02-28 22:01:17|            5|U5 - Metropolitana|       7661|    FLXG-39|1b49300a5ce2c3a45...|\n",
      "|2019-02-28 22:01:20|            5|U5 - Metropolitana|       7661|    FLXG-39|d9c9e244023c49fe0...|\n",
      "|2019-02-28 22:01:23|            5|U5 - Metropolitana|       7661|    FLXG-39|0bb31c472e93e5ef9...|\n",
      "|2019-02-28 22:01:32|            5|U5 - Metropolitana|       7661|    FLXG-39|82f249120eaed6624...|\n",
      "|2019-02-28 22:01:35|            5|U5 - Metropolitana|       7661|    FLXG-39|ab1843f66ae99efbe...|\n",
      "|2019-02-28 22:03:17|            5|U5 - Metropolitana|       7956|    FLXK-32|4ca48c030ba3eec86...|\n",
      "+-------------------+-------------+------------------+-----------+-----------+--------------------+\n",
      "only showing top 20 rows\n",
      "\n"
     ]
    }
   ],
   "source": [
    "df.show()"
   ]
  },
  {
   "cell_type": "code",
   "execution_count": 6,
   "metadata": {},
   "outputs": [
    {
     "data": {
      "text/plain": [
       "2433466"
      ]
     },
     "execution_count": 6,
     "metadata": {},
     "output_type": "execute_result"
    }
   ],
   "source": [
    "df.count()"
   ]
  },
  {
   "cell_type": "code",
   "execution_count": 7,
   "metadata": {},
   "outputs": [
    {
     "data": {
      "text/plain": [
       "8"
      ]
     },
     "execution_count": 7,
     "metadata": {},
     "output_type": "execute_result"
    }
   ],
   "source": [
    "df.select(\"nombreentidad\").distinct().count()"
   ]
  },
  {
   "cell_type": "code",
   "execution_count": 9,
   "metadata": {},
   "outputs": [
    {
     "name": "stdout",
     "output_type": "stream",
     "text": [
      "+------------------+\n",
      "|     nombreentidad|\n",
      "+------------------+\n",
      "|       U2 - Su Bus|\n",
      "|          U7 - STP|\n",
      "|        METRO - OT|\n",
      "|      Tren Central|\n",
      "|       U6 - Redbus|\n",
      "|         U3 - Vule|\n",
      "|      U4 - Express|\n",
      "|U5 - Metropolitana|\n",
      "+------------------+\n",
      "\n"
     ]
    }
   ],
   "source": [
    "df.select(\"nombreentidad\").distinct().show()"
   ]
  },
  {
   "cell_type": "code",
   "execution_count": 10,
   "metadata": {},
   "outputs": [
    {
     "data": {
      "text/plain": [
       "1161560"
      ]
     },
     "execution_count": 10,
     "metadata": {},
     "output_type": "execute_result"
    }
   ],
   "source": [
    "df.select(\"nrotarjeta\").distinct().count()"
   ]
  },
  {
   "cell_type": "code",
   "execution_count": 13,
   "metadata": {},
   "outputs": [
    {
     "name": "stdout",
     "output_type": "stream",
     "text": [
      "+--------------------+-----+\n",
      "|          nrotarjeta|count|\n",
      "+--------------------+-----+\n",
      "|f4221acc3ec26146b...|   25|\n",
      "|0b286ef4a356304ef...|   24|\n",
      "|f1cc16d8093662c10...|   21|\n",
      "|e21255cc625840b88...|   20|\n",
      "|9bc9ad4835dae1ca9...|   20|\n",
      "|4650034e1690026c9...|   20|\n",
      "|ba602fc72c91fc9bd...|   20|\n",
      "|e9904008854abc186...|   20|\n",
      "|05ce66ed7948936ac...|   18|\n",
      "|5b040cedf7146d46b...|   18|\n",
      "|b5a4026d77cad264d...|   18|\n",
      "|f975001ffe1b87792...|   18|\n",
      "|ca3454d9131f8b02a...|   18|\n",
      "|c58c3d4bd2924126d...|   18|\n",
      "|12b382c2f5297029b...|   17|\n",
      "|64db36ddb326c94b0...|   17|\n",
      "|198ff7943b4d2a61b...|   17|\n",
      "|8697342494cdf1400...|   16|\n",
      "|b50ddb477cb5d0957...|   16|\n",
      "|4d68bcadbc68638f9...|   16|\n",
      "+--------------------+-----+\n",
      "only showing top 20 rows\n",
      "\n"
     ]
    }
   ],
   "source": [
    "df.select(\"nrotarjeta\").groupBy(\"nrotarjeta\").count().orderBy(\"count\", ascending=False).show()"
   ]
  },
  {
   "cell_type": "code",
   "execution_count": 14,
   "metadata": {},
   "outputs": [
    {
     "name": "stdout",
     "output_type": "stream",
     "text": [
      "+--------------------+-----+\n",
      "|         nombresitio|count|\n",
      "+--------------------+-----+\n",
      "|    Estacion Central|49772|\n",
      "|      Plaza de Armas|31163|\n",
      "|         Cal y Canto|27702|\n",
      "|Universidad de Sa...|27541|\n",
      "|Universidad de Chile|23872|\n",
      "|      Manquehue - L1|23307|\n",
      "|Plaza de Puente Alto|22499|\n",
      "|         TOBALABA_L1|21939|\n",
      "|      La Cisterna L2|21821|\n",
      "|    Plaza Maipú - L5|21634|\n",
      "|           Las Rejas|21096|\n",
      "|         Santa Lucia|20836|\n",
      "|     Escuela Militar|18962|\n",
      "|    Estacion Alameda|16873|\n",
      "|       Pudahuel - L5|16739|\n",
      "|  Los Dominicos - L1|16437|\n",
      "| San Alberto Hurtado|15712|\n",
      "|      Vespucio Norte|15670|\n",
      "|           Pajaritos|15009|\n",
      "|          La Florida|14938|\n",
      "+--------------------+-----+\n",
      "only showing top 20 rows\n",
      "\n"
     ]
    }
   ],
   "source": [
    "df.select(\"nombresitio\").groupBy(\"nombresitio\").count().orderBy(\"count\", ascending=False).show()"
   ]
  },
  {
   "cell_type": "code",
   "execution_count": 20,
   "metadata": {},
   "outputs": [
    {
     "name": "stdout",
     "output_type": "stream",
     "text": [
      "+----------+\n",
      "|      date|\n",
      "+----------+\n",
      "|28-02-2019|\n",
      "|28-02-2019|\n",
      "|28-02-2019|\n",
      "|28-02-2019|\n",
      "|28-02-2019|\n",
      "|28-02-2019|\n",
      "|28-02-2019|\n",
      "|28-02-2019|\n",
      "|28-02-2019|\n",
      "|28-02-2019|\n",
      "|28-02-2019|\n",
      "|28-02-2019|\n",
      "|28-02-2019|\n",
      "|28-02-2019|\n",
      "|28-02-2019|\n",
      "|28-02-2019|\n",
      "|28-02-2019|\n",
      "|28-02-2019|\n",
      "|28-02-2019|\n",
      "|28-02-2019|\n",
      "+----------+\n",
      "only showing top 20 rows\n",
      "\n"
     ]
    }
   ],
   "source": [
    "df.select(F.date_format(\"fechahoratrx\", \"dd-MM-yyyy\").alias(\"date\")).show()"
   ]
  },
  {
   "cell_type": "code",
   "execution_count": 23,
   "metadata": {},
   "outputs": [
    {
     "name": "stdout",
     "output_type": "stream",
     "text": [
      "+----------+-------+\n",
      "|      date|  count|\n",
      "+----------+-------+\n",
      "|02-03-2019|1745562|\n",
      "|03-03-2019| 625026|\n",
      "|01-03-2019|  41399|\n",
      "|28-02-2019|   9516|\n",
      "|27-02-2019|   6374|\n",
      "|26-02-2019|   3338|\n",
      "|25-02-2019|   1829|\n",
      "|24-02-2019|    290|\n",
      "|23-02-2019|    132|\n",
      "+----------+-------+\n",
      "\n"
     ]
    }
   ],
   "source": [
    "df.select(F.date_format(\"fechahoratrx\", \"dd-MM-yyyy\").alias(\"date\")).groupBy(\"date\").count().orderBy(\"count\", ascending=False).show()"
   ]
  },
  {
   "cell_type": "code",
   "execution_count": 25,
   "metadata": {},
   "outputs": [
    {
     "name": "stdout",
     "output_type": "stream",
     "text": [
      "+-------------------+\n",
      "|       fechahoratrx|\n",
      "+-------------------+\n",
      "|2019-02-28 21:00:15|\n",
      "|2019-02-28 21:02:39|\n",
      "|2019-02-28 21:11:25|\n",
      "|2019-02-28 21:14:22|\n",
      "|2019-02-28 21:17:02|\n",
      "|2019-02-28 21:17:07|\n",
      "|2019-02-28 21:20:12|\n",
      "|2019-02-28 21:21:34|\n",
      "|2019-02-28 21:21:42|\n",
      "|2019-02-28 21:21:44|\n",
      "|2019-02-28 21:31:21|\n",
      "|2019-02-28 21:37:10|\n",
      "|2019-02-28 22:01:06|\n",
      "|2019-02-28 22:01:13|\n",
      "|2019-02-28 22:01:17|\n",
      "|2019-02-28 22:01:20|\n",
      "|2019-02-28 22:01:23|\n",
      "|2019-02-28 22:01:32|\n",
      "|2019-02-28 22:01:35|\n",
      "|2019-02-28 22:03:17|\n",
      "+-------------------+\n",
      "only showing top 20 rows\n",
      "\n"
     ]
    }
   ],
   "source": [
    "df.select(\"fechahoratrx\").show()"
   ]
  },
  {
   "cell_type": "code",
   "execution_count": 28,
   "metadata": {},
   "outputs": [
    {
     "name": "stdout",
     "output_type": "stream",
     "text": [
      "+----+------+\n",
      "|hour| count|\n",
      "+----+------+\n",
      "|  00|  1040|\n",
      "|  01|   977|\n",
      "|  02|  4735|\n",
      "|  03| 44862|\n",
      "|  04| 94140|\n",
      "|  05|117877|\n",
      "|  06|132925|\n",
      "|  07|140874|\n",
      "|  08|151073|\n",
      "|  09|163193|\n",
      "|  10|178809|\n",
      "|  11|167546|\n",
      "|  12|153121|\n",
      "|  13|151113|\n",
      "|  14|155574|\n",
      "|  15|160705|\n",
      "|  16|159717|\n",
      "|  17|159276|\n",
      "|  18|144508|\n",
      "|  19|106242|\n",
      "+----+------+\n",
      "only showing top 20 rows\n",
      "\n"
     ]
    }
   ],
   "source": [
    "df.select(F.date_format(\"fechahoratrx\", \"HH\").alias(\"hour\")).groupBy(\"hour\").count().orderBy(\"hour\").show()"
   ]
  },
  {
   "cell_type": "code",
   "execution_count": null,
   "metadata": {},
   "outputs": [],
   "source": []
  }
 ],
 "metadata": {
  "kernelspec": {
   "display_name": "transport",
   "language": "python",
   "name": "transport"
  },
  "language_info": {
   "codemirror_mode": {
    "name": "ipython",
    "version": 3
   },
   "file_extension": ".py",
   "mimetype": "text/x-python",
   "name": "python",
   "nbconvert_exporter": "python",
   "pygments_lexer": "ipython3",
   "version": "3.6.7"
  }
 },
 "nbformat": 4,
 "nbformat_minor": 2
}
