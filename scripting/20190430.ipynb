{
 "cells": [
  {
   "cell_type": "code",
   "execution_count": 17,
   "metadata": {},
   "outputs": [],
   "source": [
    "from pyspark.sql import SparkSession\n",
    "from pyspark.sql import functions as F"
   ]
  },
  {
   "cell_type": "code",
   "execution_count": 2,
   "metadata": {},
   "outputs": [],
   "source": [
    "spark = SparkSession.builder.appName(\"transport\").getOrCreate()"
   ]
  },
  {
   "cell_type": "code",
   "execution_count": 5,
   "metadata": {},
   "outputs": [],
   "source": [
    "path = \"../20190101.parquet/\""
   ]
  },
  {
   "cell_type": "code",
   "execution_count": 7,
   "metadata": {},
   "outputs": [],
   "source": [
    "df = spark.read.parquet(path)"
   ]
  },
  {
   "cell_type": "code",
   "execution_count": 8,
   "metadata": {},
   "outputs": [
    {
     "name": "stdout",
     "output_type": "stream",
     "text": [
      "+-------------------+-------------+-------------+-----------+-----------+--------------------+--------+--------+\n",
      "|       fechahoratrx|codigoentidad|nombreentidad|codigositio|nombresitio|          nrotarjeta|    from|      to|\n",
      "+-------------------+-------------+-------------+-----------+-----------+--------------------+--------+--------+\n",
      "|2018-12-12 15:17:21|           13|  U6 - Redbus|       3371|    CJRK-36|706707caa38bcfc4f...|20181224|20181226|\n",
      "|2018-12-12 15:50:47|           13|  U6 - Redbus|       3371|    CJRK-36|be2c8cdd54243b8d5...|20181224|20181226|\n",
      "|2018-12-12 15:52:02|           13|  U6 - Redbus|       3371|    CJRK-36|fff5567cbe457eb76...|20181224|20181226|\n",
      "|2018-12-12 15:52:44|           13|  U6 - Redbus|       3371|    CJRK-36|cbdba9fc06a13210c...|20181224|20181226|\n",
      "|2018-12-12 16:11:48|           13|  U6 - Redbus|       3371|    CJRK-36|e16d5e63ee0d1e717...|20181224|20181226|\n",
      "|2018-12-12 16:32:23|           13|  U6 - Redbus|       3371|    CJRK-36|70b6f0de84676986b...|20181224|20181226|\n",
      "|2018-12-12 17:07:27|           13|  U6 - Redbus|       3371|    CJRK-36|42b237977fbfc276a...|20181224|20181226|\n",
      "|2018-12-12 17:46:51|           13|  U6 - Redbus|       3371|    CJRK-36|3a34452f319d9eef0...|20181224|20181226|\n",
      "|2018-12-12 17:47:11|           13|  U6 - Redbus|       3371|    CJRK-36|4bd7dc03e6735ea56...|20181224|20181226|\n",
      "|2018-12-12 18:00:12|           13|  U6 - Redbus|       3371|    CJRK-36|32f7b7dbc0e6f354f...|20181224|20181226|\n",
      "|2018-12-17 04:44:20|            9|     U7 - STP|       2561|    CJRD-50|f91637a1ddb671210...|20181224|20181226|\n",
      "|2018-12-17 04:44:22|            9|     U7 - STP|       2561|    CJRD-50|81b1603d82195ee42...|20181224|20181226|\n",
      "|2018-12-17 04:44:26|            9|     U7 - STP|       2561|    CJRD-50|00d55c82d10bfa89e...|20181224|20181226|\n",
      "|2018-12-17 04:44:33|            9|     U7 - STP|       2561|    CJRD-50|45d7cf0bd81845ffe...|20181224|20181226|\n",
      "|2018-12-17 04:44:38|            9|     U7 - STP|       2561|    CJRD-50|04e1f956cbeaa62a2...|20181224|20181226|\n",
      "|2018-12-17 04:44:41|            9|     U7 - STP|       2561|    CJRD-50|77381fdfd6265d849...|20181224|20181226|\n",
      "|2018-12-17 04:44:49|            9|     U7 - STP|       2561|    CJRD-50|08ef029f01e94173d...|20181224|20181226|\n",
      "|2018-12-17 04:45:35|            9|     U7 - STP|       2561|    CJRD-50|547e5d3672aeec149...|20181224|20181226|\n",
      "|2018-12-17 04:45:40|            9|     U7 - STP|       2561|    CJRD-50|0e680e3568298ffbb...|20181224|20181226|\n",
      "|2018-12-17 04:45:56|            9|     U7 - STP|       2561|    CJRD-50|cb737cf2f778609e3...|20181224|20181226|\n",
      "+-------------------+-------------+-------------+-----------+-----------+--------------------+--------+--------+\n",
      "only showing top 20 rows\n",
      "\n"
     ]
    }
   ],
   "source": [
    "df.show()"
   ]
  },
  {
   "cell_type": "code",
   "execution_count": 22,
   "metadata": {},
   "outputs": [
    {
     "name": "stdout",
     "output_type": "stream",
     "text": [
      "+-------------------------------------+\n",
      "|date_format(fechahoratrx, yyyy-MM-dd)|\n",
      "+-------------------------------------+\n",
      "|                           2018-12-12|\n",
      "|                           2018-12-12|\n",
      "|                           2018-12-12|\n",
      "|                           2018-12-12|\n",
      "|                           2018-12-12|\n",
      "|                           2018-12-12|\n",
      "|                           2018-12-12|\n",
      "|                           2018-12-12|\n",
      "|                           2018-12-12|\n",
      "|                           2018-12-12|\n",
      "|                           2018-12-17|\n",
      "|                           2018-12-17|\n",
      "|                           2018-12-17|\n",
      "|                           2018-12-17|\n",
      "|                           2018-12-17|\n",
      "|                           2018-12-17|\n",
      "|                           2018-12-17|\n",
      "|                           2018-12-17|\n",
      "|                           2018-12-17|\n",
      "|                           2018-12-17|\n",
      "+-------------------------------------+\n",
      "only showing top 20 rows\n",
      "\n"
     ]
    }
   ],
   "source": [
    "df.select(F.date_format('fechahoratrx','yyyy-MM-dd')).show()\n",
    "# .alias('day')).groupby('day').count().show()"
   ]
  },
  {
   "cell_type": "code",
   "execution_count": 24,
   "metadata": {},
   "outputs": [
    {
     "name": "stdout",
     "output_type": "stream",
     "text": [
      "+----------+-------+\n",
      "|       day|  count|\n",
      "+----------+-------+\n",
      "|2018-12-17|    741|\n",
      "|2018-12-20|  10281|\n",
      "|2018-12-22|2152393|\n",
      "|2018-12-16|    247|\n",
      "|2018-12-15|    190|\n",
      "|2018-12-19|   3886|\n",
      "|2018-12-25|1044562|\n",
      "|2018-12-26|5107710|\n",
      "|2018-11-27|      1|\n",
      "|2018-12-24|3941962|\n",
      "|2018-12-13|    448|\n",
      "|2018-12-18|   3230|\n",
      "|2018-12-21|  60969|\n",
      "|2018-12-11|     43|\n",
      "|2018-12-23|2207767|\n",
      "|2018-12-12|     17|\n",
      "|2018-12-14|    453|\n",
      "|2018-12-28|2107164|\n",
      "|2018-12-10|     87|\n",
      "|2018-12-03|    114|\n",
      "+----------+-------+\n",
      "only showing top 20 rows\n",
      "\n"
     ]
    }
   ],
   "source": [
    "df.select(F.date_format('fechahoratrx','yyyy-MM-dd').alias('day')).groupby('day').count().show()"
   ]
  },
  {
   "cell_type": "code",
   "execution_count": 15,
   "metadata": {},
   "outputs": [
    {
     "name": "stdout",
     "output_type": "stream",
     "text": [
      "+----+-------+\n",
      "|hour|  count|\n",
      "+----+-------+\n",
      "|  12|1191595|\n",
      "|  22|  14015|\n",
      "|   1|   6729|\n",
      "|  13|1210675|\n",
      "|  16|1494219|\n",
      "|   6|1303911|\n",
      "|   3| 922997|\n",
      "|  20| 167837|\n",
      "|   5|1764443|\n",
      "|  19| 595944|\n",
      "|  15|1685980|\n",
      "|  17|1178452|\n",
      "|   9|1240544|\n",
      "|   4|1701752|\n",
      "|   8|1178936|\n",
      "|  23|   6801|\n",
      "|   7|1171696|\n",
      "|  10|1296285|\n",
      "|  21|  41137|\n",
      "|  11|1252853|\n",
      "+----+-------+\n",
      "only showing top 20 rows\n",
      "\n"
     ]
    }
   ],
   "source": [
    "(df\n",
    "    .groupBy(hour(\"fechahoratrx\").alias(\"hour\"))\n",
    "    .count()\n",
    "    .show())"
   ]
  },
  {
   "cell_type": "code",
   "execution_count": 30,
   "metadata": {},
   "outputs": [],
   "source": [
    "result = df.select(\"nombresitio\", F.date_format('fechahoratrx','yyyy-MM-dd').alias('day')).groupby('nombresitio', 'day').count()"
   ]
  },
  {
   "cell_type": "code",
   "execution_count": 31,
   "metadata": {},
   "outputs": [],
   "source": [
    "result.write.csv('result.csv')"
   ]
  },
  {
   "cell_type": "code",
   "execution_count": 32,
   "metadata": {},
   "outputs": [
    {
     "data": {
      "text/plain": [
       "'/home/nicolas/github/improve_transport/scripting'"
      ]
     },
     "execution_count": 32,
     "metadata": {},
     "output_type": "execute_result"
    }
   ],
   "source": [
    "pwd"
   ]
  },
  {
   "cell_type": "code",
   "execution_count": 33,
   "metadata": {},
   "outputs": [
    {
     "name": "stdout",
     "output_type": "stream",
     "text": [
      "total 320\n",
      "-rw-rw-r-- 1 nicolas nicolas   1385 mar 12 16:04 20180823.py\n",
      "-rw-rw-r-- 1 nicolas nicolas    471 mar 12 16:04 20180824.py\n",
      "-rw-rw-r-- 1 nicolas nicolas 164186 mar 31 23:39 20190330.ipynb\n",
      "-rw-rw-r-- 1 nicolas nicolas  11698 abr  1 02:57 20190331.ipynb\n",
      "-rw-rw-r-- 1 nicolas nicolas  13259 abr  2 20:12 20190401.ipynb\n",
      "-rw-rw-r-- 1 nicolas nicolas   2223 abr  3 12:20 20190401.py\n",
      "-rw-rw-r-- 1 nicolas nicolas  21041 abr 10 02:08 20190402.ipynb\n",
      "-rw-rw-r-- 1 nicolas nicolas  14223 abr  3 17:13 20190403.ipynb\n",
      "-rw-rw-r-- 1 nicolas nicolas   1792 abr  6 03:42 20190403.py\n",
      "-rw-rw-r-- 1 nicolas nicolas  14846 abr 12 02:56 20190407.ipynb\n",
      "-rw-rw-r-- 1 nicolas nicolas  10128 abr  9 12:46 20190408.ipynb\n",
      "-rw-rw-r-- 1 nicolas nicolas  10968 abr 12 03:53 20190412.ipynb\n",
      "-rw-rw-r-- 1 nicolas nicolas  12918 abr 14 01:58 20190413.ipynb\n",
      "-rw-rw-r-- 1 nicolas nicolas   3067 abr 15 13:08 20190413.py\n",
      "-rw-rw-r-- 1 nicolas nicolas   8968 abr 30 19:26 20190430.ipynb\n"
     ]
    }
   ],
   "source": [
    "ls -l"
   ]
  },
  {
   "cell_type": "code",
   "execution_count": null,
   "metadata": {},
   "outputs": [],
   "source": []
  }
 ],
 "metadata": {
  "kernelspec": {
   "display_name": "transport",
   "language": "python",
   "name": "transport"
  },
  "language_info": {
   "codemirror_mode": {
    "name": "ipython",
    "version": 3
   },
   "file_extension": ".py",
   "mimetype": "text/x-python",
   "name": "python",
   "nbconvert_exporter": "python",
   "pygments_lexer": "ipython3",
   "version": "3.6.7"
  }
 },
 "nbformat": 4,
 "nbformat_minor": 2
}
