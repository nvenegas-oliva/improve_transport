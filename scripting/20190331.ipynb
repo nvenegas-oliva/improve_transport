{
 "cells": [
  {
   "cell_type": "code",
   "execution_count": 1,
   "metadata": {},
   "outputs": [],
   "source": [
    "from glob import glob"
   ]
  },
  {
   "cell_type": "code",
   "execution_count": 2,
   "metadata": {},
   "outputs": [],
   "source": [
    "import findspark\n",
    "findspark.init()"
   ]
  },
  {
   "cell_type": "code",
   "execution_count": 3,
   "metadata": {},
   "outputs": [],
   "source": [
    "from pyspark import SparkConf, SparkContext\n",
    "from pyspark.sql import SQLContext"
   ]
  },
  {
   "cell_type": "code",
   "execution_count": 4,
   "metadata": {},
   "outputs": [],
   "source": [
    "conf = SparkConf().setMaster(\"local[4]\").setAppName(\"transport\")\n",
    "sc = SparkContext(conf=conf)"
   ]
  },
  {
   "cell_type": "code",
   "execution_count": 5,
   "metadata": {},
   "outputs": [],
   "source": [
    "sqlContext = SQLContext(sc)"
   ]
  },
  {
   "cell_type": "code",
   "execution_count": 6,
   "metadata": {},
   "outputs": [
    {
     "data": {
      "text/plain": [
       "['datasets/20190311/telefonica/shared/filtered_Lst_Usos_20190305_20190307.CSV',\n",
       " 'datasets/20190311/telefonica/shared/filtered_Lst_Usos_20190303_20190305.CSV',\n",
       " 'datasets/20190311/telefonica/shared/filtered_Lst_Usos_20190302_20190304.CSV',\n",
       " 'datasets/20190311/telefonica/shared/filtered_Lst_Usos_20190306_20190308.CSV',\n",
       " 'datasets/20190311/telefonica/shared/filtered_Lst_Usos_20190304_20190306.CSV',\n",
       " 'datasets/20190311/telefonica/shared/filtered_Lst_Usos_20190307_20190309.CSV',\n",
       " 'datasets/20190330/telefonica/shared/filtered_Lst_Usos_20190326_20190328.CSV',\n",
       " 'datasets/20190330/telefonica/shared/filtered_Lst_Usos_20190325_20190327.CSV',\n",
       " 'datasets/20190330/telefonica/shared/filtered_Lst_Usos_20190324_20190326.CSV',\n",
       " 'datasets/20190330/telefonica/shared/filtered_Lst_Usos_20190321_20190323.CSV',\n",
       " 'datasets/20190330/telefonica/shared/filtered_Lst_Usos_20190323_20190325.CSV',\n",
       " 'datasets/20190330/telefonica/shared/filtered_Lst_Usos_20190322_20190324.CSV']"
      ]
     },
     "execution_count": 6,
     "metadata": {},
     "output_type": "execute_result"
    }
   ],
   "source": [
    "path_datasets = \"datasets/\"\n",
    "root_path = \"telefonica/shared/\"\n",
    "\n",
    "all_files = glob(path_datasets + \"[0-9]*/\" + root_path + \"*.CSV\")\n",
    "all_files"
   ]
  },
  {
   "cell_type": "code",
   "execution_count": 13,
   "metadata": {},
   "outputs": [],
   "source": [
    "df = sqlContext.read.csv(path=all_files, header=True, sep=\";\", encoding=\"cp1252\").drop(\"_c6\")"
   ]
  },
  {
   "cell_type": "code",
   "execution_count": 14,
   "metadata": {},
   "outputs": [
    {
     "name": "stdout",
     "output_type": "stream",
     "text": [
      "root\n",
      " |-- FECHAHORATRX: string (nullable = true)\n",
      " |-- CODIGOENTIDAD: string (nullable = true)\n",
      " |-- NOMBREENTIDAD: string (nullable = true)\n",
      " |-- CODIGOSITIO: string (nullable = true)\n",
      " |-- NOMBRESITIO: string (nullable = true)\n",
      " |-- NROTARJETA: string (nullable = true)\n",
      "\n"
     ]
    }
   ],
   "source": [
    "df.printSchema()"
   ]
  },
  {
   "cell_type": "markdown",
   "metadata": {},
   "source": [
    "## Missing values"
   ]
  },
  {
   "cell_type": "code",
   "execution_count": 33,
   "metadata": {},
   "outputs": [
    {
     "name": "stdout",
     "output_type": "stream",
     "text": [
      "== Physical Plan ==\n",
      "*(1) FileScan csv [FECHAHORATRX#57,CODIGOENTIDAD#58,NOMBREENTIDAD#59,CODIGOSITIO#60,NOMBRESITIO#61,NROTARJETA#62] Batched: false, Format: CSV, Location: InMemoryFileIndex[file:/home/nicolas/github/improve_transport/datasets/20190311/telefonica/shared..., PartitionFilters: [], PushedFilters: [], ReadSchema: struct<FECHAHORATRX:string,CODIGOENTIDAD:string,NOMBREENTIDAD:string,CODIGOSITIO:string,NOMBRESIT...\n"
     ]
    }
   ],
   "source": [
    "df.explain()"
   ]
  },
  {
   "cell_type": "code",
   "execution_count": 36,
   "metadata": {},
   "outputs": [
    {
     "name": "stdout",
     "output_type": "stream",
     "text": [
      "== Physical Plan ==\n",
      "*(1) Filter isnull(FECHAHORATRX#57)\n",
      "+- *(1) FileScan csv [FECHAHORATRX#57,CODIGOENTIDAD#58,NOMBREENTIDAD#59,CODIGOSITIO#60,NOMBRESITIO#61,NROTARJETA#62] Batched: false, Format: CSV, Location: InMemoryFileIndex[file:/home/nicolas/github/improve_transport/datasets/20190311/telefonica/shared..., PartitionFilters: [], PushedFilters: [IsNull(FECHAHORATRX)], ReadSchema: struct<FECHAHORATRX:string,CODIGOENTIDAD:string,NOMBREENTIDAD:string,CODIGOSITIO:string,NOMBRESIT...\n"
     ]
    }
   ],
   "source": [
    "df.where(df[\"FECHAHORATRX\"].isNull()).explain()"
   ]
  },
  {
   "cell_type": "code",
   "execution_count": 22,
   "metadata": {},
   "outputs": [],
   "source": [
    "missing_values = [(column, df.where(df[column].isNull()).count()) for column in df.columns]"
   ]
  },
  {
   "cell_type": "code",
   "execution_count": 23,
   "metadata": {},
   "outputs": [
    {
     "data": {
      "text/plain": [
       "[('FECHAHORATRX', 0),\n",
       " ('CODIGOENTIDAD', 0),\n",
       " ('NOMBREENTIDAD', 0),\n",
       " ('CODIGOSITIO', 0),\n",
       " ('NOMBRESITIO', 0),\n",
       " ('NROTARJETA', 0)]"
      ]
     },
     "execution_count": 23,
     "metadata": {},
     "output_type": "execute_result"
    }
   ],
   "source": [
    "missing_values"
   ]
  },
  {
   "cell_type": "markdown",
   "metadata": {},
   "source": [
    "## Convert to parquet format"
   ]
  },
  {
   "cell_type": "code",
   "execution_count": 7,
   "metadata": {},
   "outputs": [
    {
     "data": {
      "text/plain": [
       "['datasets/20190330/telefonica/shared/filtered_Lst_Usos_20190326_20190328.CSV',\n",
       " 'datasets/20190330/telefonica/shared/filtered_Lst_Usos_20190325_20190327.CSV',\n",
       " 'datasets/20190330/telefonica/shared/filtered_Lst_Usos_20190324_20190326.CSV',\n",
       " 'datasets/20190330/telefonica/shared/filtered_Lst_Usos_20190321_20190323.CSV',\n",
       " 'datasets/20190330/telefonica/shared/filtered_Lst_Usos_20190323_20190325.CSV',\n",
       " 'datasets/20190330/telefonica/shared/filtered_Lst_Usos_20190322_20190324.CSV']"
      ]
     },
     "execution_count": 7,
     "metadata": {},
     "output_type": "execute_result"
    }
   ],
   "source": [
    "all_files = glob(path_datasets + \"20190330/\" + root_path + \"*.CSV\")\n",
    "all_files"
   ]
  },
  {
   "cell_type": "code",
   "execution_count": 39,
   "metadata": {},
   "outputs": [],
   "source": [
    "df = sqlContext.read.csv(path=all_files, header=True, sep=\";\", encoding=\"cp1252\").drop(\"_c6\")"
   ]
  },
  {
   "cell_type": "code",
   "execution_count": 40,
   "metadata": {},
   "outputs": [
    {
     "name": "stdout",
     "output_type": "stream",
     "text": [
      "CPU times: user 6.44 ms, sys: 1.69 ms, total: 8.14 ms\n",
      "Wall time: 1min 5s\n"
     ]
    }
   ],
   "source": [
    "%%time\n",
    "df.write.parquet(\"datasets/20190330.parquet\")"
   ]
  },
  {
   "cell_type": "code",
   "execution_count": 45,
   "metadata": {},
   "outputs": [
    {
     "name": "stdout",
     "output_type": "stream",
     "text": [
      "2,9G\tdatasets/20190311\n",
      "1,2G\tdatasets/20190311.zip\n",
      "3,1G\tdatasets/20190330\n",
      "595M\tdatasets/20190330.7z\n",
      "1,9G\tdatasets/20190330.parquet\n",
      "1,3G\tdatasets/20190330.zip\n"
     ]
    }
   ],
   "source": [
    "!du -hs datasets/*"
   ]
  },
  {
   "cell_type": "markdown",
   "metadata": {},
   "source": [
    "## Parquet vs CSV performance"
   ]
  },
  {
   "cell_type": "code",
   "execution_count": 42,
   "metadata": {},
   "outputs": [
    {
     "name": "stdout",
     "output_type": "stream",
     "text": [
      "total 2758504\n",
      "drwxrwxr-x 3 nicolas nicolas       4096 mar 30 20:47 \u001b[0m\u001b[01;34m20190311\u001b[0m/\n",
      "-rw-rw-r-- 1 nicolas nicolas 1206821387 mar 11 18:54 \u001b[01;31m20190311.zip\u001b[0m\n",
      "drwxrwxr-x 3 nicolas nicolas       4096 mar 30 20:50 \u001b[01;34m20190330\u001b[0m/\n",
      "-rw-rw-r-- 1 nicolas nicolas  316154198 abr  1 02:22 \u001b[01;31m20190330.7z\u001b[0m\n",
      "drwxrwxr-x 2 nicolas nicolas       4096 abr  1 02:17 \u001b[01;34m20190330.parquet\u001b[0m/\n",
      "-rw-rw-r-- 1 nicolas nicolas 1301698260 mar 30 16:46 \u001b[01;31m20190330.zip\u001b[0m\n"
     ]
    }
   ],
   "source": [
    "ls -l datasets/"
   ]
  },
  {
   "cell_type": "markdown",
   "metadata": {},
   "source": [
    "### CSV missing values"
   ]
  },
  {
   "cell_type": "code",
   "execution_count": 13,
   "metadata": {},
   "outputs": [
    {
     "name": "stdout",
     "output_type": "stream",
     "text": [
      "[('FECHAHORATRX', 0), ('CODIGOENTIDAD', 0), ('NOMBREENTIDAD', 0), ('CODIGOSITIO', 0), ('NOMBRESITIO', 0), ('NROTARJETA', 0)]\n",
      "CPU times: user 26.1 ms, sys: 8.81 ms, total: 34.9 ms\n",
      "Wall time: 4min 22s\n"
     ]
    }
   ],
   "source": [
    "%%time\n",
    "df = sqlContext.read.csv(path=all_files, header=True, sep=\";\", encoding=\"cp1252\").drop(\"_c6\")\n",
    "missing_values = [(column, df.where(df[column].isNull()).count()) for column in df.columns]\n",
    "print(missing_values)"
   ]
  },
  {
   "cell_type": "markdown",
   "metadata": {},
   "source": [
    "### Parquet missing values"
   ]
  },
  {
   "cell_type": "code",
   "execution_count": 8,
   "metadata": {},
   "outputs": [
    {
     "name": "stdout",
     "output_type": "stream",
     "text": [
      "[('FECHAHORATRX', 0), ('CODIGOENTIDAD', 0), ('NOMBREENTIDAD', 0), ('CODIGOSITIO', 0), ('NOMBRESITIO', 0), ('NROTARJETA', 0)]\n",
      "CPU times: user 4.57 ms, sys: 1.85 ms, total: 6.42 ms\n",
      "Wall time: 5.36 s\n"
     ]
    }
   ],
   "source": [
    "%%time\n",
    "path_parquet = \"datasets/20190330.parquet/\"\n",
    "df = sqlContext.read.load(path_parquet)\n",
    "missing_values = [(column, df.where(df[column].isNull()).count()) for column in df.columns]\n",
    "print(missing_values)"
   ]
  },
  {
   "cell_type": "code",
   "execution_count": 9,
   "metadata": {},
   "outputs": [
    {
     "name": "stdout",
     "output_type": "stream",
     "text": [
      "root\n",
      " |-- FECHAHORATRX: string (nullable = true)\n",
      " |-- CODIGOENTIDAD: string (nullable = true)\n",
      " |-- NOMBREENTIDAD: string (nullable = true)\n",
      " |-- CODIGOSITIO: string (nullable = true)\n",
      " |-- NOMBRESITIO: string (nullable = true)\n",
      " |-- NROTARJETA: string (nullable = true)\n",
      "\n"
     ]
    }
   ],
   "source": [
    "df.printSchema()"
   ]
  },
  {
   "cell_type": "markdown",
   "metadata": {},
   "source": [
    "4 * 60 + 22"
   ]
  },
  {
   "cell_type": "markdown",
   "metadata": {},
   "source": [
    "### Conclusion"
   ]
  },
  {
   "cell_type": "code",
   "execution_count": 15,
   "metadata": {},
   "outputs": [
    {
     "name": "stdout",
     "output_type": "stream",
     "text": [
      "Using parquet format is 48x faster!!\n"
     ]
    }
   ],
   "source": [
    "print(\"Using parquet format is %dx faster!!\" % ((4 * 60 + 22) / 5.36)) "
   ]
  }
 ],
 "metadata": {
  "kernelspec": {
   "display_name": "adl",
   "language": "python",
   "name": "adl"
  },
  "language_info": {
   "codemirror_mode": {
    "name": "ipython",
    "version": 3
   },
   "file_extension": ".py",
   "mimetype": "text/x-python",
   "name": "python",
   "nbconvert_exporter": "python",
   "pygments_lexer": "ipython3",
   "version": "3.6.7"
  }
 },
 "nbformat": 4,
 "nbformat_minor": 2
}
