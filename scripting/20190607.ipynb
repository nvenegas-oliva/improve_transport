{
 "cells": [
  {
   "cell_type": "code",
   "execution_count": 1,
   "metadata": {},
   "outputs": [],
   "source": [
    "from pyspark import SparkContext, SparkConf\n",
    "from pyspark.sql import SQLContext\n",
    "from pyspark.sql import functions as F"
   ]
  },
  {
   "cell_type": "code",
   "execution_count": 2,
   "metadata": {},
   "outputs": [],
   "source": [
    "conf = SparkConf().setMaster(\"local[4]\").setAppName(\"transport\")\n",
    "sc = SparkContext(conf=conf)\n",
    "sqlContext = SQLContext(sc)"
   ]
  },
  {
   "cell_type": "code",
   "execution_count": 3,
   "metadata": {},
   "outputs": [],
   "source": [
    "path = \"file:///home/nicolas/github/improve_transport/datasets/data.parquet/\""
   ]
  },
  {
   "cell_type": "code",
   "execution_count": 4,
   "metadata": {},
   "outputs": [],
   "source": [
    "df = sqlContext.read.parquet(path)"
   ]
  },
  {
   "cell_type": "code",
   "execution_count": 5,
   "metadata": {},
   "outputs": [
    {
     "name": "stdout",
     "output_type": "stream",
     "text": [
      "+-------------------+-------------+------------------+-----------+-----------+--------------------+\n",
      "|       fechahoratrx|codigoentidad|     nombreentidad|codigositio|nombresitio|          nrotarjeta|\n",
      "+-------------------+-------------+------------------+-----------+-----------+--------------------+\n",
      "|2019-02-28 21:00:15|           13|       U6 - Redbus|       2596|    CJRC-35|612d6a01a6158dd63...|\n",
      "|2019-02-28 21:02:39|            5|U5 - Metropolitana|       7660|    FLXG-38|eb7a60b4eb2e7b0a9...|\n",
      "|2019-02-28 21:11:25|            5|U5 - Metropolitana|      11338|    FLXT-94|b4a501a26eaab4f8a...|\n",
      "|2019-02-28 21:14:22|           13|       U6 - Redbus|       2596|    CJRC-35|a727f39a7a85cb6c1...|\n",
      "|2019-02-28 21:17:02|            5|U5 - Metropolitana|      14379|    BJFJ-15|dcb9033eb5920016b...|\n",
      "|2019-02-28 21:17:07|            5|U5 - Metropolitana|      14379|    BJFJ-15|8647ac944c4fa5928...|\n",
      "|2019-02-28 21:20:12|           13|       U6 - Redbus|       2596|    CJRC-35|4339814f270bfab3d...|\n",
      "|2019-02-28 21:21:34|            5|U5 - Metropolitana|       7661|    FLXG-39|e59769c9c65ff87d8...|\n",
      "|2019-02-28 21:21:42|            5|U5 - Metropolitana|       7661|    FLXG-39|49de7c2ab5dee56a0...|\n",
      "|2019-02-28 21:21:44|            5|U5 - Metropolitana|       7661|    FLXG-39|64cc53979994b65e1...|\n",
      "|2019-02-28 21:31:21|            5|U5 - Metropolitana|       7661|    FLXG-39|09c9d7a0b9a78ebb5...|\n",
      "|2019-02-28 21:37:10|            5|U5 - Metropolitana|      14379|    BJFJ-15|720d1760077201b0a...|\n",
      "|2019-02-28 22:01:06|            5|U5 - Metropolitana|       7661|    FLXG-39|1b5f4d29ad5c0a75f...|\n",
      "|2019-02-28 22:01:13|            5|U5 - Metropolitana|       7661|    FLXG-39|98b4b0a4ac617cfb2...|\n",
      "|2019-02-28 22:01:17|            5|U5 - Metropolitana|       7661|    FLXG-39|1b49300a5ce2c3a45...|\n",
      "|2019-02-28 22:01:20|            5|U5 - Metropolitana|       7661|    FLXG-39|d9c9e244023c49fe0...|\n",
      "|2019-02-28 22:01:23|            5|U5 - Metropolitana|       7661|    FLXG-39|0bb31c472e93e5ef9...|\n",
      "|2019-02-28 22:01:32|            5|U5 - Metropolitana|       7661|    FLXG-39|82f249120eaed6624...|\n",
      "|2019-02-28 22:01:35|            5|U5 - Metropolitana|       7661|    FLXG-39|ab1843f66ae99efbe...|\n",
      "|2019-02-28 22:03:17|            5|U5 - Metropolitana|       7956|    FLXK-32|4ca48c030ba3eec86...|\n",
      "+-------------------+-------------+------------------+-----------+-----------+--------------------+\n",
      "only showing top 20 rows\n",
      "\n"
     ]
    }
   ],
   "source": [
    "df.show()"
   ]
  },
  {
   "cell_type": "code",
   "execution_count": 6,
   "metadata": {},
   "outputs": [
    {
     "name": "stdout",
     "output_type": "stream",
     "text": [
      "root\n",
      " |-- fechahoratrx: timestamp (nullable = true)\n",
      " |-- codigoentidad: long (nullable = true)\n",
      " |-- nombreentidad: string (nullable = true)\n",
      " |-- codigositio: long (nullable = true)\n",
      " |-- nombresitio: string (nullable = true)\n",
      " |-- nrotarjeta: string (nullable = true)\n",
      "\n"
     ]
    }
   ],
   "source": [
    "df.printSchema()"
   ]
  },
  {
   "cell_type": "code",
   "execution_count": 7,
   "metadata": {},
   "outputs": [
    {
     "data": {
      "text/plain": [
       "2433466"
      ]
     },
     "execution_count": 7,
     "metadata": {},
     "output_type": "execute_result"
    }
   ],
   "source": [
    "df.count()"
   ]
  },
  {
   "cell_type": "code",
   "execution_count": 8,
   "metadata": {},
   "outputs": [
    {
     "name": "stdout",
     "output_type": "stream",
     "text": [
      "+--------------------+-----+\n",
      "|          nrotarjeta|count|\n",
      "+--------------------+-----+\n",
      "|f4221acc3ec26146b...|   25|\n",
      "|0b286ef4a356304ef...|   24|\n",
      "|f1cc16d8093662c10...|   21|\n",
      "|e21255cc625840b88...|   20|\n",
      "|4650034e1690026c9...|   20|\n",
      "|9bc9ad4835dae1ca9...|   20|\n",
      "|ba602fc72c91fc9bd...|   20|\n",
      "|e9904008854abc186...|   20|\n",
      "|f975001ffe1b87792...|   18|\n",
      "|ca3454d9131f8b02a...|   18|\n",
      "|b5a4026d77cad264d...|   18|\n",
      "|5b040cedf7146d46b...|   18|\n",
      "|c58c3d4bd2924126d...|   18|\n",
      "|05ce66ed7948936ac...|   18|\n",
      "|12b382c2f5297029b...|   17|\n",
      "|198ff7943b4d2a61b...|   17|\n",
      "|64db36ddb326c94b0...|   17|\n",
      "|8052f93490092aa4a...|   16|\n",
      "|55070b9c28e40eed0...|   16|\n",
      "|f8cda3a4bbbf1c2ef...|   16|\n",
      "+--------------------+-----+\n",
      "only showing top 20 rows\n",
      "\n"
     ]
    }
   ],
   "source": [
    "df.groupBy(\"nrotarjeta\").count().orderBy(\"count\", ascending=False).show()"
   ]
  },
  {
   "cell_type": "code",
   "execution_count": 9,
   "metadata": {},
   "outputs": [],
   "source": [
    "df.createOrReplaceTempView('df')"
   ]
  },
  {
   "cell_type": "code",
   "execution_count": 23,
   "metadata": {},
   "outputs": [
    {
     "name": "stdout",
     "output_type": "stream",
     "text": [
      "+--------------------+------------------+-----+\n",
      "|          nrotarjeta|     nombreentidad|count|\n",
      "+--------------------+------------------+-----+\n",
      "|6cbcf07f6b9502933...|       U6 - Redbus|    1|\n",
      "|494c93b4f91813b1a...|U5 - Metropolitana|    1|\n",
      "|d4d5aefb798c8a9fe...|U5 - Metropolitana|    1|\n",
      "|b0bb29fde7565da7c...|U5 - Metropolitana|    1|\n",
      "|4cd7438eace49cfd7...|       U6 - Redbus|    2|\n",
      "|a3b629b2a227e9e23...|U5 - Metropolitana|    1|\n",
      "|33447cc0954101c9a...|       U6 - Redbus|    1|\n",
      "|84f192fe4e3298eb1...|U5 - Metropolitana|    1|\n",
      "|8f5a57848989c0f00...|U5 - Metropolitana|    1|\n",
      "|27689d10932716361...|U5 - Metropolitana|    1|\n",
      "|dbad6f8dd5196036b...|         U3 - Vule|    1|\n",
      "|7709d1be22bf32852...|U5 - Metropolitana|    1|\n",
      "|668a196b4437e23fc...|U5 - Metropolitana|    2|\n",
      "|d9ecd35d5c6d7617d...|       U6 - Redbus|    1|\n",
      "|cef59dd4cfa92d770...|U5 - Metropolitana|    2|\n",
      "|b56b54f26203e2162...|U5 - Metropolitana|    1|\n",
      "|2c3e783d7f8aba7d7...|         U3 - Vule|    1|\n",
      "|b7017908a27ee4e25...|U5 - Metropolitana|    1|\n",
      "|d242d39dfa4e6cbd1...|       U2 - Su Bus|    1|\n",
      "|8f23a9f32c210ed7f...|         U3 - Vule|    1|\n",
      "+--------------------+------------------+-----+\n",
      "only showing top 20 rows\n",
      "\n"
     ]
    }
   ],
   "source": [
    "query = \"\"\"\n",
    "    SELECT nrotarjeta, nombreentidad, COUNT(*) as count\n",
    "    FROM df\n",
    "    GROUP BY nrotarjeta, nombreentidad\n",
    "\"\"\"\n",
    "result = sqlContext.sql(query)\n",
    "result.show()"
   ]
  },
  {
   "cell_type": "code",
   "execution_count": 33,
   "metadata": {},
   "outputs": [
    {
     "name": "stdout",
     "output_type": "stream",
     "text": [
      "+--------------------+------------------+-----+\n",
      "|          nrotarjeta|     nombreentidad|count|\n",
      "+--------------------+------------------+-----+\n",
      "|0b286ef4a356304ef...|        METRO - OT|   24|\n",
      "|f1cc16d8093662c10...|        METRO - OT|   21|\n",
      "|ae472f38ce14d7347...|U5 - Metropolitana|   11|\n",
      "|c909309d0c5c313ea...|U5 - Metropolitana|   11|\n",
      "|3ed0d4f78603b46e2...|      U4 - Express|   11|\n",
      "|4e9f3beb896b8273b...|      Tren Central|   10|\n",
      "|60c31e815e3f380d8...|U5 - Metropolitana|   10|\n",
      "|314f4188e4c591a28...|       U2 - Su Bus|   10|\n",
      "|5b040cedf7146d46b...|       U6 - Redbus|   10|\n",
      "|f947f0bcc72db9ad8...|U5 - Metropolitana|   10|\n",
      "|37c17fc6843cd5a7d...|          U7 - STP|    9|\n",
      "|45d4c63334c9dacd2...|       U2 - Su Bus|    9|\n",
      "|862447def346871c4...|       U2 - Su Bus|    9|\n",
      "|27d9e5f3e90685047...|       U2 - Su Bus|    9|\n",
      "|63d9ab80e538a085c...|         U3 - Vule|    9|\n",
      "|bab194b3a8930aed8...|       U2 - Su Bus|    9|\n",
      "|f45d87cd753b25fae...|       U2 - Su Bus|    9|\n",
      "|eb6fc0bba47e80ba5...|         U3 - Vule|    9|\n",
      "|0c298d52142b0101d...|      Tren Central|    9|\n",
      "|a48e9d07b409708c5...|       U2 - Su Bus|    9|\n",
      "+--------------------+------------------+-----+\n",
      "only showing top 20 rows\n",
      "\n"
     ]
    }
   ],
   "source": [
    "query = \"\"\"\n",
    "    SELECT nrotarjeta, nombreentidad, count\n",
    "    FROM (\n",
    "        SELECT nrotarjeta, nombreentidad, count,\n",
    "            DENSE_RANK() OVER(\n",
    "                PARTITION BY nombreentidad\n",
    "                ORDER BY count DESC\n",
    "            ) AS rank\n",
    "        FROM (\n",
    "            SELECT nrotarjeta, nombreentidad, COUNT(*) as count\n",
    "            FROM df\n",
    "            GROUP BY nrotarjeta, nombreentidad\n",
    "            ORDER BY count DESC\n",
    "        )\n",
    "    )\n",
    "    WHERE rank <= 2\n",
    "    ORDER BY count DESC\n",
    "\"\"\"\n",
    "result = sqlContext.sql(query)\n",
    "result.show()"
   ]
  },
  {
   "cell_type": "code",
   "execution_count": null,
   "metadata": {},
   "outputs": [],
   "source": [
    "SELECT\n",
    "  product,\n",
    "  category,\n",
    "  revenue\n",
    "FROM (\n",
    "  SELECT\n",
    "    product,\n",
    "    category,\n",
    "    revenue,\n",
    "    dense_rank() OVER (PARTITION BY category ORDER BY revenue DESC) as rank\n",
    "  FROM productRevenue) tmp\n",
    "WHERE\n",
    "  rank <= 2"
   ]
  },
  {
   "cell_type": "code",
   "execution_count": null,
   "metadata": {},
   "outputs": [],
   "source": []
  },
  {
   "cell_type": "code",
   "execution_count": null,
   "metadata": {},
   "outputs": [],
   "source": []
  },
  {
   "cell_type": "code",
   "execution_count": null,
   "metadata": {},
   "outputs": [],
   "source": []
  },
  {
   "cell_type": "code",
   "execution_count": null,
   "metadata": {},
   "outputs": [],
   "source": []
  },
  {
   "cell_type": "code",
   "execution_count": null,
   "metadata": {},
   "outputs": [],
   "source": []
  },
  {
   "cell_type": "code",
   "execution_count": 13,
   "metadata": {},
   "outputs": [],
   "source": [
    "query = \"\"\"\n",
    "    SELECT *, SUM(codigoentidad)\n",
    "    OVER (partition by nrotarjeta) AS total\n",
    "    FROM df\n",
    "\"\"\"\n",
    "\n",
    "result = sqlContext.sql(query)"
   ]
  },
  {
   "cell_type": "code",
   "execution_count": 14,
   "metadata": {},
   "outputs": [
    {
     "name": "stdout",
     "output_type": "stream",
     "text": [
      "+-------------------+-------------+------------------+-----------+--------------------+--------------------+-----+\n",
      "|       fechahoratrx|codigoentidad|     nombreentidad|codigositio|         nombresitio|          nrotarjeta|total|\n",
      "+-------------------+-------------+------------------+-----------+--------------------+--------------------+-----+\n",
      "|2019-03-02 08:35:55|            1|        METRO - OT|        151|     Laguna Sur - L5|0019a77744e1d066e...|    1|\n",
      "|2019-03-02 16:57:59|            1|        METRO - OT|        100|      Manquehue - L1|00262da83972ed902...|    2|\n",
      "|2019-03-02 20:05:11|            1|        METRO - OT|         13|Universidad de Chile|00262da83972ed902...|    2|\n",
      "|2019-03-03 08:32:44|            9|          U7 - STP|       7265|             LDJJ-67|00285c70482182094...|   22|\n",
      "|2019-03-03 10:23:28|           13|       U6 - Redbus|      11319|             FLXT-88|00285c70482182094...|   22|\n",
      "|2019-03-03 11:06:25|            5|U5 - Metropolitana|      13593|             BFKC-19|002eb206405683518...|   10|\n",
      "|2019-03-03 15:14:38|            5|U5 - Metropolitana|      11218|             FLXS-75|002eb206405683518...|   10|\n",
      "|2019-03-03 09:59:49|           16|         U3 - Vule|       7562|             FLXF-30|0036ba9a4e42f2ed9...|   16|\n",
      "|2019-03-02 14:21:45|            1|        METRO - OT|        116|Puente Cal y Cant...|003bd0190ceeb66c3...|    1|\n",
      "|2019-03-02 09:26:52|            1|        METRO - OT|         55|      Plaza de Armas|003dd2c47e01feebd...|    3|\n",
      "|2019-03-02 11:28:50|            1|        METRO - OT|        153|    Monte Tabor - L5|003dd2c47e01feebd...|    3|\n",
      "|2019-03-02 12:42:09|            1|        METRO - OT|         55|      Plaza de Armas|003dd2c47e01feebd...|    3|\n",
      "|2019-03-02 06:56:54|            1|        METRO - OT|         73|Protectora de la ...|0055be4579cfe5f06...|    1|\n",
      "|2019-03-02 09:44:49|           13|       U6 - Redbus|       2815|             CJRF-87|005d2d1b7b89e38d3...|   13|\n",
      "|2019-03-03 07:24:29|            5|U5 - Metropolitana|      15450|             BJFZ-17|005da9aec822652ec...|   10|\n",
      "|2019-03-03 09:57:52|            5|U5 - Metropolitana|      13816|             BJFB-94|005da9aec822652ec...|   10|\n",
      "|2019-03-03 09:05:04|            4|      U4 - Express|      12407|             CJRX-93|006b655af48ddd9fa...|    4|\n",
      "|2019-03-02 06:26:23|           17|      Tren Central|          8|  Estacion Lo Espejo|007c37b92a743a351...|   22|\n",
      "|2019-03-02 17:53:43|            1|        METRO - OT|          8|    Estacion Central|007c37b92a743a351...|   22|\n",
      "|2019-03-03 07:33:50|            4|      U4 - Express|       2970|             CJRH-99|007c37b92a743a351...|   22|\n",
      "+-------------------+-------------+------------------+-----------+--------------------+--------------------+-----+\n",
      "only showing top 20 rows\n",
      "\n"
     ]
    }
   ],
   "source": [
    "result.show()"
   ]
  },
  {
   "cell_type": "code",
   "execution_count": null,
   "metadata": {},
   "outputs": [],
   "source": []
  }
 ],
 "metadata": {
  "kernelspec": {
   "display_name": "adl",
   "language": "python",
   "name": "adl"
  },
  "language_info": {
   "codemirror_mode": {
    "name": "ipython",
    "version": 3
   },
   "file_extension": ".py",
   "mimetype": "text/x-python",
   "name": "python",
   "nbconvert_exporter": "python",
   "pygments_lexer": "ipython3",
   "version": "3.6.7"
  }
 },
 "nbformat": 4,
 "nbformat_minor": 2
}
