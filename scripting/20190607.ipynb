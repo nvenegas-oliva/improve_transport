{
 "cells": [
  {
   "cell_type": "code",
   "execution_count": 1,
   "metadata": {},
   "outputs": [],
   "source": [
    "from pyspark import SparkContext, SparkConf\n",
    "from pyspark.sql import SQLContext\n",
    "from pyspark.sql import functions as F"
   ]
  },
  {
   "cell_type": "code",
   "execution_count": 2,
   "metadata": {},
   "outputs": [],
   "source": [
    "conf = SparkConf().setMaster(\"local[4]\").setAppName(\"transport\")\n",
    "sc = SparkContext(conf=conf)\n",
    "sqlContext = SQLContext(sc)"
   ]
  },
  {
   "cell_type": "code",
   "execution_count": 3,
   "metadata": {},
   "outputs": [],
   "source": [
    "path = \"file:///home/nicolas/github/improve_transport/datasets/data.parquet/\""
   ]
  },
  {
   "cell_type": "code",
   "execution_count": 4,
   "metadata": {},
   "outputs": [],
   "source": [
    "df = sqlContext.read.parquet(path)"
   ]
  },
  {
   "cell_type": "code",
   "execution_count": 5,
   "metadata": {},
   "outputs": [
    {
     "name": "stdout",
     "output_type": "stream",
     "text": [
      "+-------------------+-------------+------------------+-----------+-----------+--------------------+\n",
      "|       fechahoratrx|codigoentidad|     nombreentidad|codigositio|nombresitio|          nrotarjeta|\n",
      "+-------------------+-------------+------------------+-----------+-----------+--------------------+\n",
      "|2019-02-28 21:00:15|           13|       U6 - Redbus|       2596|    CJRC-35|612d6a01a6158dd63...|\n",
      "|2019-02-28 21:02:39|            5|U5 - Metropolitana|       7660|    FLXG-38|eb7a60b4eb2e7b0a9...|\n",
      "|2019-02-28 21:11:25|            5|U5 - Metropolitana|      11338|    FLXT-94|b4a501a26eaab4f8a...|\n",
      "|2019-02-28 21:14:22|           13|       U6 - Redbus|       2596|    CJRC-35|a727f39a7a85cb6c1...|\n",
      "|2019-02-28 21:17:02|            5|U5 - Metropolitana|      14379|    BJFJ-15|dcb9033eb5920016b...|\n",
      "|2019-02-28 21:17:07|            5|U5 - Metropolitana|      14379|    BJFJ-15|8647ac944c4fa5928...|\n",
      "|2019-02-28 21:20:12|           13|       U6 - Redbus|       2596|    CJRC-35|4339814f270bfab3d...|\n",
      "|2019-02-28 21:21:34|            5|U5 - Metropolitana|       7661|    FLXG-39|e59769c9c65ff87d8...|\n",
      "|2019-02-28 21:21:42|            5|U5 - Metropolitana|       7661|    FLXG-39|49de7c2ab5dee56a0...|\n",
      "|2019-02-28 21:21:44|            5|U5 - Metropolitana|       7661|    FLXG-39|64cc53979994b65e1...|\n",
      "|2019-02-28 21:31:21|            5|U5 - Metropolitana|       7661|    FLXG-39|09c9d7a0b9a78ebb5...|\n",
      "|2019-02-28 21:37:10|            5|U5 - Metropolitana|      14379|    BJFJ-15|720d1760077201b0a...|\n",
      "|2019-02-28 22:01:06|            5|U5 - Metropolitana|       7661|    FLXG-39|1b5f4d29ad5c0a75f...|\n",
      "|2019-02-28 22:01:13|            5|U5 - Metropolitana|       7661|    FLXG-39|98b4b0a4ac617cfb2...|\n",
      "|2019-02-28 22:01:17|            5|U5 - Metropolitana|       7661|    FLXG-39|1b49300a5ce2c3a45...|\n",
      "|2019-02-28 22:01:20|            5|U5 - Metropolitana|       7661|    FLXG-39|d9c9e244023c49fe0...|\n",
      "|2019-02-28 22:01:23|            5|U5 - Metropolitana|       7661|    FLXG-39|0bb31c472e93e5ef9...|\n",
      "|2019-02-28 22:01:32|            5|U5 - Metropolitana|       7661|    FLXG-39|82f249120eaed6624...|\n",
      "|2019-02-28 22:01:35|            5|U5 - Metropolitana|       7661|    FLXG-39|ab1843f66ae99efbe...|\n",
      "|2019-02-28 22:03:17|            5|U5 - Metropolitana|       7956|    FLXK-32|4ca48c030ba3eec86...|\n",
      "+-------------------+-------------+------------------+-----------+-----------+--------------------+\n",
      "only showing top 20 rows\n",
      "\n"
     ]
    }
   ],
   "source": [
    "df.show()"
   ]
  },
  {
   "cell_type": "code",
   "execution_count": 6,
   "metadata": {},
   "outputs": [
    {
     "name": "stdout",
     "output_type": "stream",
     "text": [
      "root\n",
      " |-- fechahoratrx: timestamp (nullable = true)\n",
      " |-- codigoentidad: long (nullable = true)\n",
      " |-- nombreentidad: string (nullable = true)\n",
      " |-- codigositio: long (nullable = true)\n",
      " |-- nombresitio: string (nullable = true)\n",
      " |-- nrotarjeta: string (nullable = true)\n",
      "\n"
     ]
    }
   ],
   "source": [
    "df.printSchema()"
   ]
  },
  {
   "cell_type": "code",
   "execution_count": 7,
   "metadata": {},
   "outputs": [
    {
     "data": {
      "text/plain": [
       "2433466"
      ]
     },
     "execution_count": 7,
     "metadata": {},
     "output_type": "execute_result"
    }
   ],
   "source": [
    "df.count()"
   ]
  },
  {
   "cell_type": "code",
   "execution_count": 8,
   "metadata": {},
   "outputs": [
    {
     "name": "stdout",
     "output_type": "stream",
     "text": [
      "+--------------------+-----+\n",
      "|          nrotarjeta|count|\n",
      "+--------------------+-----+\n",
      "|f4221acc3ec26146b...|   25|\n",
      "|0b286ef4a356304ef...|   24|\n",
      "|f1cc16d8093662c10...|   21|\n",
      "|e21255cc625840b88...|   20|\n",
      "|4650034e1690026c9...|   20|\n",
      "|e9904008854abc186...|   20|\n",
      "|9bc9ad4835dae1ca9...|   20|\n",
      "|ba602fc72c91fc9bd...|   20|\n",
      "|5b040cedf7146d46b...|   18|\n",
      "|ca3454d9131f8b02a...|   18|\n",
      "|05ce66ed7948936ac...|   18|\n",
      "|b5a4026d77cad264d...|   18|\n",
      "|c58c3d4bd2924126d...|   18|\n",
      "|f975001ffe1b87792...|   18|\n",
      "|198ff7943b4d2a61b...|   17|\n",
      "|12b382c2f5297029b...|   17|\n",
      "|64db36ddb326c94b0...|   17|\n",
      "|8052f93490092aa4a...|   16|\n",
      "|8697342494cdf1400...|   16|\n",
      "|55070b9c28e40eed0...|   16|\n",
      "+--------------------+-----+\n",
      "only showing top 20 rows\n",
      "\n"
     ]
    }
   ],
   "source": [
    "df.groupBy(\"nrotarjeta\").count().orderBy(\"count\", ascending=False).show()"
   ]
  },
  {
   "cell_type": "code",
   "execution_count": 9,
   "metadata": {},
   "outputs": [],
   "source": [
    "df.createOrReplaceTempView('df')"
   ]
  },
  {
   "cell_type": "code",
   "execution_count": 10,
   "metadata": {},
   "outputs": [
    {
     "name": "stdout",
     "output_type": "stream",
     "text": [
      "+--------------------+------------------+-----+\n",
      "|          nrotarjeta|     nombreentidad|count|\n",
      "+--------------------+------------------+-----+\n",
      "|6cbcf07f6b9502933...|       U6 - Redbus|    1|\n",
      "|494c93b4f91813b1a...|U5 - Metropolitana|    1|\n",
      "|d4d5aefb798c8a9fe...|U5 - Metropolitana|    1|\n",
      "|b0bb29fde7565da7c...|U5 - Metropolitana|    1|\n",
      "|4cd7438eace49cfd7...|       U6 - Redbus|    2|\n",
      "|a3b629b2a227e9e23...|U5 - Metropolitana|    1|\n",
      "|33447cc0954101c9a...|       U6 - Redbus|    1|\n",
      "|84f192fe4e3298eb1...|U5 - Metropolitana|    1|\n",
      "|8f5a57848989c0f00...|U5 - Metropolitana|    1|\n",
      "|27689d10932716361...|U5 - Metropolitana|    1|\n",
      "|dbad6f8dd5196036b...|         U3 - Vule|    1|\n",
      "|7709d1be22bf32852...|U5 - Metropolitana|    1|\n",
      "|668a196b4437e23fc...|U5 - Metropolitana|    2|\n",
      "|d9ecd35d5c6d7617d...|       U6 - Redbus|    1|\n",
      "|cef59dd4cfa92d770...|U5 - Metropolitana|    2|\n",
      "|b56b54f26203e2162...|U5 - Metropolitana|    1|\n",
      "|2c3e783d7f8aba7d7...|         U3 - Vule|    1|\n",
      "|b7017908a27ee4e25...|U5 - Metropolitana|    1|\n",
      "|d242d39dfa4e6cbd1...|       U2 - Su Bus|    1|\n",
      "|8f23a9f32c210ed7f...|         U3 - Vule|    1|\n",
      "+--------------------+------------------+-----+\n",
      "only showing top 20 rows\n",
      "\n"
     ]
    }
   ],
   "source": [
    "query = \"\"\"\n",
    "    SELECT nrotarjeta, nombreentidad, COUNT(*) as count\n",
    "    FROM df\n",
    "    GROUP BY nrotarjeta, nombreentidad\n",
    "\"\"\"\n",
    "result = sqlContext.sql(query)\n",
    "result.show()"
   ]
  },
  {
   "cell_type": "code",
   "execution_count": 11,
   "metadata": {},
   "outputs": [
    {
     "name": "stdout",
     "output_type": "stream",
     "text": [
      "+--------------------+------------------+-----+\n",
      "|          nrotarjeta|     nombreentidad|count|\n",
      "+--------------------+------------------+-----+\n",
      "|0b286ef4a356304ef...|        METRO - OT|   24|\n",
      "|f1cc16d8093662c10...|        METRO - OT|   21|\n",
      "|c909309d0c5c313ea...|U5 - Metropolitana|   11|\n",
      "|3ed0d4f78603b46e2...|      U4 - Express|   11|\n",
      "|ae472f38ce14d7347...|U5 - Metropolitana|   11|\n",
      "|4e9f3beb896b8273b...|      Tren Central|   10|\n",
      "|60c31e815e3f380d8...|U5 - Metropolitana|   10|\n",
      "|314f4188e4c591a28...|       U2 - Su Bus|   10|\n",
      "|5b040cedf7146d46b...|       U6 - Redbus|   10|\n",
      "|f947f0bcc72db9ad8...|U5 - Metropolitana|   10|\n",
      "|45d4c63334c9dacd2...|       U2 - Su Bus|    9|\n",
      "|27d9e5f3e90685047...|       U2 - Su Bus|    9|\n",
      "|0c298d52142b0101d...|      Tren Central|    9|\n",
      "|37ce06df1ade640f4...|         U3 - Vule|    9|\n",
      "|a48e9d07b409708c5...|       U2 - Su Bus|    9|\n",
      "|862447def346871c4...|       U2 - Su Bus|    9|\n",
      "|f45d87cd753b25fae...|       U2 - Su Bus|    9|\n",
      "|37c17fc6843cd5a7d...|          U7 - STP|    9|\n",
      "|8297fed3e7749e836...|      U4 - Express|    9|\n",
      "|bab194b3a8930aed8...|       U2 - Su Bus|    9|\n",
      "+--------------------+------------------+-----+\n",
      "only showing top 20 rows\n",
      "\n"
     ]
    }
   ],
   "source": [
    "query = \"\"\"\n",
    "    SELECT nrotarjeta, nombreentidad, count\n",
    "    FROM (\n",
    "        SELECT nrotarjeta, nombreentidad, count,\n",
    "            DENSE_RANK() OVER(\n",
    "                PARTITION BY nombreentidad\n",
    "                ORDER BY count DESC\n",
    "            ) AS rank\n",
    "        FROM (\n",
    "            SELECT nrotarjeta, nombreentidad, COUNT(*) as count\n",
    "            FROM df\n",
    "            GROUP BY nrotarjeta, nombreentidad\n",
    "            ORDER BY count DESC\n",
    "        )\n",
    "    )\n",
    "    WHERE rank <= 2\n",
    "    ORDER BY count DESC\n",
    "\"\"\"\n",
    "result = sqlContext.sql(query)\n",
    "result.show()"
   ]
  },
  {
   "cell_type": "code",
   "execution_count": 12,
   "metadata": {},
   "outputs": [],
   "source": [
    "result = result.collect()"
   ]
  },
  {
   "cell_type": "code",
   "execution_count": 13,
   "metadata": {},
   "outputs": [
    {
     "data": {
      "text/plain": [
       "[Row(nrotarjeta='0b286ef4a356304ef4d0149b49f77cdb2c9ba795b7e516a4309f68c7bb9d3e81', nombreentidad='METRO - OT', count=24),\n",
       " Row(nrotarjeta='f1cc16d8093662c10a97f3e23812ab664743990a983f6d30662bc190a3973a36', nombreentidad='METRO - OT', count=21),\n",
       " Row(nrotarjeta='3ed0d4f78603b46e29e8640e18bb1020734f7721ffb8113c3ece0c98659c47e6', nombreentidad='U4 - Express', count=11),\n",
       " Row(nrotarjeta='c909309d0c5c313ea66a1d98ac8e8f579130935dfa2bf1b44dcd2746721ff0c8', nombreentidad='U5 - Metropolitana', count=11),\n",
       " Row(nrotarjeta='ae472f38ce14d7347ef36161197e7801b799d6d8257e22c43653ed86fa53bead', nombreentidad='U5 - Metropolitana', count=11),\n",
       " Row(nrotarjeta='314f4188e4c591a28cc19ae26c3d092a6cbaf5a19c28aabf7938596b1be75aeb', nombreentidad='U2 - Su Bus', count=10),\n",
       " Row(nrotarjeta='4e9f3beb896b8273bbac5bf11437b3f59ca2fcb08b8eea267b79e360035198e0', nombreentidad='Tren Central', count=10),\n",
       " Row(nrotarjeta='5b040cedf7146d46bb3cea4c5c1971be71f6379f15e3e29fe534c5e17a4d2970', nombreentidad='U6 - Redbus', count=10),\n",
       " Row(nrotarjeta='f947f0bcc72db9ad83acd7efa4f5cd016af4cbf7fe55bbd13a28114ddb56bd2f', nombreentidad='U5 - Metropolitana', count=10),\n",
       " Row(nrotarjeta='60c31e815e3f380d8e8fc9f6ffad48600aa3daa83c1857e87136e27a41ff88fd', nombreentidad='U5 - Metropolitana', count=10),\n",
       " Row(nrotarjeta='a48e9d07b409708c52cd9804ad2fd9af88a0691682ccb9a5bb3987338e0bed39', nombreentidad='U2 - Su Bus', count=9),\n",
       " Row(nrotarjeta='bab194b3a8930aed8e09f57121c092f78f4411e6374d0af4fb7aaae85144c265', nombreentidad='U2 - Su Bus', count=9),\n",
       " Row(nrotarjeta='862447def346871c43e8ce71b581df378b22d2f1a749233fe6d36d45b4232cd3', nombreentidad='U2 - Su Bus', count=9),\n",
       " Row(nrotarjeta='f45d87cd753b25fae0bbabb3cf9258c2010006e64e0b8ba53bcd850a08448cea', nombreentidad='U2 - Su Bus', count=9),\n",
       " Row(nrotarjeta='45d4c63334c9dacd20dc785c329ef0b82f4f51ef1e4fe1b8dcdd8bf3c0e4b4ef', nombreentidad='U2 - Su Bus', count=9),\n",
       " Row(nrotarjeta='27d9e5f3e906850470885c810a58d5be56d051240012d9fd8ae2cb60871143e2', nombreentidad='U2 - Su Bus', count=9),\n",
       " Row(nrotarjeta='37c17fc6843cd5a7d8777c6d5240cce7903cc2a99d06b8c1ec128cfe3196bcb0', nombreentidad='U7 - STP', count=9),\n",
       " Row(nrotarjeta='0c298d52142b0101dca9d2f9b0535959657980778fc17db77fd32e52c8351eea', nombreentidad='Tren Central', count=9),\n",
       " Row(nrotarjeta='eb6fc0bba47e80ba594ab5624d71e2a92e5a80cbcbce4430fb98c135f5605462', nombreentidad='U3 - Vule', count=9),\n",
       " Row(nrotarjeta='63d9ab80e538a085cbf15a2e4cbe3e8b38025225010ca8c4e598d40bffccc18e', nombreentidad='U3 - Vule', count=9),\n",
       " Row(nrotarjeta='37ce06df1ade640f4f016149768b03d83d39eb369c6f53370458263e896af046', nombreentidad='U3 - Vule', count=9),\n",
       " Row(nrotarjeta='8297fed3e7749e83638613c0e65ac1b56abc744b3d3f91845674a4e6dcbb00e9', nombreentidad='U4 - Express', count=9),\n",
       " Row(nrotarjeta='e6ea18e880b213b727069fb8950bea04a01200acec7f540824138101844f5349', nombreentidad='U7 - STP', count=8),\n",
       " Row(nrotarjeta='df113857e367b65bac350c847fd6fe1ba8df9e5beb58490435f54b4fbeedce39', nombreentidad='U7 - STP', count=8),\n",
       " Row(nrotarjeta='2f9f2d0d76cd349161eb1dd11f1dca48993e97f4a3080807e00ac8fa0b6967ef', nombreentidad='U6 - Redbus', count=8),\n",
       " Row(nrotarjeta='5beeff72ce1399ae1c8d6972661d5020fc0333a0d9269981ad77f9c6191a3dad', nombreentidad='U6 - Redbus', count=8),\n",
       " Row(nrotarjeta='cee991f606e867cd3232dfdb0b3dab066aa01281f222c8602513148d860f343c', nombreentidad='U6 - Redbus', count=8),\n",
       " Row(nrotarjeta='fcb8e412e98c2445278637c46d3279bd533444ee76de08eee50d9730a387ad54', nombreentidad='U6 - Redbus', count=8),\n",
       " Row(nrotarjeta='f8cda3a4bbbf1c2efc7af967f51dfa11431ceaf5a86216f5185b984ea0ff6c6a', nombreentidad='U6 - Redbus', count=8),\n",
       " Row(nrotarjeta='5bbdec080ff085cf7264b8b13ffc56992eabadd8a1fda18def0973be0a64e3c4', nombreentidad='U6 - Redbus', count=8),\n",
       " Row(nrotarjeta='0c251bddfc0ede808ef618d8eb41727862387f6720403817d5f6c741848e388a', nombreentidad='U3 - Vule', count=8),\n",
       " Row(nrotarjeta='eb96534a92bc2801a8fd53e09ae0e8cb6f601e6acf73ab6ef096ab1ffda4c728', nombreentidad='U3 - Vule', count=8),\n",
       " Row(nrotarjeta='e9b8e82d66c9f340d9e6d975d36bac1e4ac0d630414615a99b01e07163494e9b', nombreentidad='U3 - Vule', count=8),\n",
       " Row(nrotarjeta='533515c696a82329ffe62e53a215fc10f01e97cb763ba3ccaf2e6b3a489c14e6', nombreentidad='U3 - Vule', count=8),\n",
       " Row(nrotarjeta='63e83ca16814cfbaf5fb3b9b21728a747ef0169b1064600bd1a8d7107c993565', nombreentidad='U3 - Vule', count=8),\n",
       " Row(nrotarjeta='d0c7cb7ff32dbffc6f9b92ce538de80c7df660e98f90c8874e779229b12816ee', nombreentidad='U3 - Vule', count=8),\n",
       " Row(nrotarjeta='d1441fbd7784ed2c303742c4047d1b4e7bf287569e57cd60f7728276c07fe6f0', nombreentidad='U3 - Vule', count=8),\n",
       " Row(nrotarjeta='11af1daca56b43b5caa8c887971d0bf0ac3f613868849fbe72d93c2b09f7c731', nombreentidad='U3 - Vule', count=8),\n",
       " Row(nrotarjeta='e40b21b39aeb0fd6ce73ee749aefcd8e5596b0f0ecfae02492554547eb20f570', nombreentidad='U3 - Vule', count=8),\n",
       " Row(nrotarjeta='aaec0ea01dca65c94826b5e20e5db2c234c0f4dadcd3bd8c1919c862bb2d51f3', nombreentidad='U3 - Vule', count=8),\n",
       " Row(nrotarjeta='4b5e94dd8e6a47a9aeff226c4529c8a285e8edfe14a364d193bb0cbb6b6122d7', nombreentidad='U3 - Vule', count=8),\n",
       " Row(nrotarjeta='ba8e7b9ba90a46821f26d5504220074dddc0ebc5d944d7fb37149941d364441c', nombreentidad='U3 - Vule', count=8),\n",
       " Row(nrotarjeta='8d320f24e525cb2ee67db3370f58375bff6860662dc500e36cf3429bf9823500', nombreentidad='U3 - Vule', count=8)]"
      ]
     },
     "execution_count": 13,
     "metadata": {},
     "output_type": "execute_result"
    }
   ],
   "source": [
    "result"
   ]
  },
  {
   "cell_type": "code",
   "execution_count": null,
   "metadata": {},
   "outputs": [],
   "source": []
  }
 ],
 "metadata": {
  "kernelspec": {
   "display_name": "adl",
   "language": "python",
   "name": "adl"
  },
  "language_info": {
   "codemirror_mode": {
    "name": "ipython",
    "version": 3
   },
   "file_extension": ".py",
   "mimetype": "text/x-python",
   "name": "python",
   "nbconvert_exporter": "python",
   "pygments_lexer": "ipython3",
   "version": "3.6.7"
  }
 },
 "nbformat": 4,
 "nbformat_minor": 2
}
