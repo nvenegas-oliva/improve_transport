{
 "cells": [
  {
   "cell_type": "code",
   "execution_count": 16,
   "metadata": {},
   "outputs": [],
   "source": [
    "from pyspark import SparkContext, SparkConf\n",
    "from pyspark.sql import SQLContext\n",
    "from pyspark.sql import functions as F\n",
    "from pyspark.sql.functions import col"
   ]
  },
  {
   "cell_type": "code",
   "execution_count": 3,
   "metadata": {},
   "outputs": [],
   "source": [
    "conf = SparkConf().setMaster(\"local[4]\").setAppName(\"transport\")\n",
    "sc = SparkContext(conf=conf)\n",
    "sqlContext = SQLContext(sc)"
   ]
  },
  {
   "cell_type": "code",
   "execution_count": 4,
   "metadata": {},
   "outputs": [],
   "source": [
    "path = \"file:///home/nicolas/github/improve_transport/datasets/data.parquet/\""
   ]
  },
  {
   "cell_type": "code",
   "execution_count": 5,
   "metadata": {},
   "outputs": [],
   "source": [
    "df = sqlContext.read.parquet(path)"
   ]
  },
  {
   "cell_type": "code",
   "execution_count": 6,
   "metadata": {},
   "outputs": [
    {
     "name": "stdout",
     "output_type": "stream",
     "text": [
      "+-------------------+-------------+------------------+-----------+-----------+--------------------+\n",
      "|       fechahoratrx|codigoentidad|     nombreentidad|codigositio|nombresitio|          nrotarjeta|\n",
      "+-------------------+-------------+------------------+-----------+-----------+--------------------+\n",
      "|2019-02-28 21:00:15|           13|       U6 - Redbus|       2596|    CJRC-35|612d6a01a6158dd63...|\n",
      "|2019-02-28 21:02:39|            5|U5 - Metropolitana|       7660|    FLXG-38|eb7a60b4eb2e7b0a9...|\n",
      "|2019-02-28 21:11:25|            5|U5 - Metropolitana|      11338|    FLXT-94|b4a501a26eaab4f8a...|\n",
      "|2019-02-28 21:14:22|           13|       U6 - Redbus|       2596|    CJRC-35|a727f39a7a85cb6c1...|\n",
      "|2019-02-28 21:17:02|            5|U5 - Metropolitana|      14379|    BJFJ-15|dcb9033eb5920016b...|\n",
      "|2019-02-28 21:17:07|            5|U5 - Metropolitana|      14379|    BJFJ-15|8647ac944c4fa5928...|\n",
      "|2019-02-28 21:20:12|           13|       U6 - Redbus|       2596|    CJRC-35|4339814f270bfab3d...|\n",
      "|2019-02-28 21:21:34|            5|U5 - Metropolitana|       7661|    FLXG-39|e59769c9c65ff87d8...|\n",
      "|2019-02-28 21:21:42|            5|U5 - Metropolitana|       7661|    FLXG-39|49de7c2ab5dee56a0...|\n",
      "|2019-02-28 21:21:44|            5|U5 - Metropolitana|       7661|    FLXG-39|64cc53979994b65e1...|\n",
      "|2019-02-28 21:31:21|            5|U5 - Metropolitana|       7661|    FLXG-39|09c9d7a0b9a78ebb5...|\n",
      "|2019-02-28 21:37:10|            5|U5 - Metropolitana|      14379|    BJFJ-15|720d1760077201b0a...|\n",
      "|2019-02-28 22:01:06|            5|U5 - Metropolitana|       7661|    FLXG-39|1b5f4d29ad5c0a75f...|\n",
      "|2019-02-28 22:01:13|            5|U5 - Metropolitana|       7661|    FLXG-39|98b4b0a4ac617cfb2...|\n",
      "|2019-02-28 22:01:17|            5|U5 - Metropolitana|       7661|    FLXG-39|1b49300a5ce2c3a45...|\n",
      "|2019-02-28 22:01:20|            5|U5 - Metropolitana|       7661|    FLXG-39|d9c9e244023c49fe0...|\n",
      "|2019-02-28 22:01:23|            5|U5 - Metropolitana|       7661|    FLXG-39|0bb31c472e93e5ef9...|\n",
      "|2019-02-28 22:01:32|            5|U5 - Metropolitana|       7661|    FLXG-39|82f249120eaed6624...|\n",
      "|2019-02-28 22:01:35|            5|U5 - Metropolitana|       7661|    FLXG-39|ab1843f66ae99efbe...|\n",
      "|2019-02-28 22:03:17|            5|U5 - Metropolitana|       7956|    FLXK-32|4ca48c030ba3eec86...|\n",
      "+-------------------+-------------+------------------+-----------+-----------+--------------------+\n",
      "only showing top 20 rows\n",
      "\n"
     ]
    }
   ],
   "source": [
    "df.show()"
   ]
  },
  {
   "cell_type": "code",
   "execution_count": 17,
   "metadata": {},
   "outputs": [
    {
     "name": "stdout",
     "output_type": "stream",
     "text": [
      "+--------------------+-----------+-------------------+\n",
      "|          nrotarjeta|nombresitio|       fechahoratrx|\n",
      "+--------------------+-----------+-------------------+\n",
      "|a48e9d07b409708c5...|    BJFJ-91|2019-03-02 05:58:14|\n",
      "|a48e9d07b409708c5...|    BJFF-70|2019-03-02 15:19:31|\n",
      "|a48e9d07b409708c5...|    ZU-5557|2019-03-02 15:33:56|\n",
      "|a48e9d07b409708c5...|    WC-1129|2019-03-02 15:50:18|\n",
      "|cee991f606e867cd3...|    CJRH-10|2019-03-02 17:08:36|\n",
      "|cee991f606e867cd3...|    CJRH-10|2019-03-02 17:08:47|\n",
      "|cee991f606e867cd3...|    CJRH-10|2019-03-02 17:08:55|\n",
      "|cee991f606e867cd3...|    CJRB-88|2019-03-02 19:22:55|\n",
      "|cee991f606e867cd3...|    CJRB-88|2019-03-02 19:23:00|\n",
      "|cee991f606e867cd3...|    CJRB-88|2019-03-02 19:23:06|\n",
      "|cee991f606e867cd3...|    CJRB-88|2019-03-02 19:23:10|\n",
      "|a48e9d07b409708c5...|    CJRL-27|2019-03-03 05:09:55|\n",
      "|a48e9d07b409708c5...|    CJRL-13|2019-03-03 05:35:54|\n",
      "|a48e9d07b409708c5...|    BJFH-14|2019-03-03 05:54:47|\n",
      "|cee991f606e867cd3...|    CJRD-20|2019-03-03 09:48:51|\n",
      "|a48e9d07b409708c5...|    BJFL-83|2019-03-03 15:08:45|\n",
      "|a48e9d07b409708c5...|    BJFF-67|2019-03-03 15:18:27|\n",
      "+--------------------+-----------+-------------------+\n",
      "\n"
     ]
    }
   ],
   "source": [
    "card = \"a48e9d07b409708c52cd9804ad2fd9af88a0691682ccb9a5bb3987338e0bed39\"\n",
    "cards = [\"cee991f606e867cd3232dfdb0b3dab066aa01281f222c8602513148d860f343c\", \n",
    "         \"a48e9d07b409708c52cd9804ad2fd9af88a0691682ccb9a5bb3987338e0bed39\"]\n",
    "df.select(\"nrotarjeta\", \"nombresitio\", \"fechahoratrx\").where(col(\"nrotarjeta\").isin(cards)).show()"
   ]
  },
  {
   "cell_type": "code",
   "execution_count": null,
   "metadata": {},
   "outputs": [],
   "source": []
  }
 ],
 "metadata": {
  "kernelspec": {
   "display_name": "transport",
   "language": "python",
   "name": "transport"
  },
  "language_info": {
   "codemirror_mode": {
    "name": "ipython",
    "version": 3
   },
   "file_extension": ".py",
   "mimetype": "text/x-python",
   "name": "python",
   "nbconvert_exporter": "python",
   "pygments_lexer": "ipython3",
   "version": "3.6.7"
  }
 },
 "nbformat": 4,
 "nbformat_minor": 2
}
