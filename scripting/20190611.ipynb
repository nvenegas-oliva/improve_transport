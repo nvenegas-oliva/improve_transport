{
 "cells": [
  {
   "cell_type": "code",
   "execution_count": 24,
   "metadata": {},
   "outputs": [],
   "source": [
    "from pyspark import SparkContext, SparkConf\n",
    "from pyspark.sql import SQLContext\n",
    "from pyspark.sql import functions as F\n",
    "from pyspark.sql.functions import col\n",
    "from pyspark.sql.window import Window"
   ]
  },
  {
   "cell_type": "code",
   "execution_count": 3,
   "metadata": {},
   "outputs": [],
   "source": [
    "conf = SparkConf().setMaster(\"local[4]\").setAppName(\"transport\")\n",
    "sc = SparkContext(conf=conf)\n",
    "sqlContext = SQLContext(sc)"
   ]
  },
  {
   "cell_type": "code",
   "execution_count": 4,
   "metadata": {},
   "outputs": [],
   "source": [
    "path = \"file:///home/nicolas/github/improve_transport/datasets/data.parquet/\""
   ]
  },
  {
   "cell_type": "code",
   "execution_count": 5,
   "metadata": {},
   "outputs": [],
   "source": [
    "df = sqlContext.read.parquet(path)"
   ]
  },
  {
   "cell_type": "code",
   "execution_count": 14,
   "metadata": {},
   "outputs": [],
   "source": [
    "df.createOrReplaceTempView(\"df\")"
   ]
  },
  {
   "cell_type": "code",
   "execution_count": 9,
   "metadata": {},
   "outputs": [],
   "source": [
    "cards = [\"cee991f606e867cd3232dfdb0b3dab066aa01281f222c8602513148d860f343c\", \n",
    "         \"a48e9d07b409708c52cd9804ad2fd9af88a0691682ccb9a5bb3987338e0bed39\",\n",
    "         \"27d9e5f3e906850470885c810a58d5be56d051240012d9fd8ae2cb60871143e2\",\n",
    "         \"533515c696a82329ffe62e53a215fc10f01e97cb763ba3ccaf2e6b3a489c14e6\"]\n",
    "df = df.select(\"nrotarjeta\", \"nombresitio\", \"fechahoratrx\").where(col(\"nrotarjeta\").isin(cards))"
   ]
  },
  {
   "cell_type": "code",
   "execution_count": 10,
   "metadata": {},
   "outputs": [
    {
     "data": {
      "text/plain": [
       "38"
      ]
     },
     "execution_count": 10,
     "metadata": {},
     "output_type": "execute_result"
    }
   ],
   "source": [
    "df.count()"
   ]
  },
  {
   "cell_type": "code",
   "execution_count": 15,
   "metadata": {},
   "outputs": [
    {
     "name": "stdout",
     "output_type": "stream",
     "text": [
      "+--------+\n",
      "|count(1)|\n",
      "+--------+\n",
      "|      38|\n",
      "+--------+\n",
      "\n"
     ]
    }
   ],
   "source": [
    "query = \"\"\"\n",
    "    SELECT COUNT(*)\n",
    "    FROM df\n",
    "\"\"\"\n",
    "sqlContext.sql(query).show()"
   ]
  },
  {
   "cell_type": "code",
   "execution_count": 19,
   "metadata": {},
   "outputs": [
    {
     "name": "stdout",
     "output_type": "stream",
     "text": [
      "+--------------------+--------------+-------------------+\n",
      "|          nrotarjeta|   nombresitio|       fechahoratrx|\n",
      "+--------------------+--------------+-------------------+\n",
      "|27d9e5f3e90685047...|       CJRP-81|2019-03-02 07:09:28|\n",
      "|27d9e5f3e90685047...|La Cisterna L2|2019-03-02 07:27:05|\n",
      "|27d9e5f3e90685047...|       BJFK-11|2019-03-02 15:45:15|\n",
      "|27d9e5f3e90685047...|       BJFK-60|2019-03-02 15:55:39|\n",
      "|27d9e5f3e90685047...|       WA-9796|2019-03-02 18:01:24|\n",
      "|27d9e5f3e90685047...|       BJFK-37|2019-03-03 10:22:03|\n",
      "|27d9e5f3e90685047...|       WB-9729|2019-03-03 10:43:02|\n",
      "|27d9e5f3e90685047...|       BJFG-89|2019-03-03 13:11:28|\n",
      "|27d9e5f3e90685047...|       CJRR-69|2019-03-03 15:39:14|\n",
      "|27d9e5f3e90685047...|       BJFF-99|2019-03-03 16:22:20|\n",
      "|27d9e5f3e90685047...|       BJFF-99|2019-03-03 16:45:41|\n",
      "|27d9e5f3e90685047...|       RM-0812|2019-03-03 17:10:27|\n",
      "|533515c696a82329f...|       FLXF-49|2019-03-02 19:49:19|\n",
      "|533515c696a82329f...|       FLXJ-54|2019-03-02 20:07:23|\n",
      "|533515c696a82329f...|       FLXF-86|2019-03-03 09:06:25|\n",
      "|533515c696a82329f...|       FLXW-92|2019-03-03 09:28:51|\n",
      "|533515c696a82329f...|       FLXX-58|2019-03-03 12:30:09|\n",
      "|533515c696a82329f...|       FLXY-34|2019-03-03 13:10:21|\n",
      "|533515c696a82329f...|       FLXD-97|2019-03-03 15:38:47|\n",
      "|533515c696a82329f...|       FLXL-13|2019-03-03 17:04:46|\n",
      "|533515c696a82329f...|       FDJX-76|2019-03-03 17:37:50|\n",
      "|a48e9d07b409708c5...|       BJFJ-91|2019-03-02 05:58:14|\n",
      "|a48e9d07b409708c5...|       BJFF-70|2019-03-02 15:19:31|\n",
      "|a48e9d07b409708c5...|       ZU-5557|2019-03-02 15:33:56|\n",
      "|a48e9d07b409708c5...|       WC-1129|2019-03-02 15:50:18|\n",
      "|a48e9d07b409708c5...|       CJRL-27|2019-03-03 05:09:55|\n",
      "|a48e9d07b409708c5...|       CJRL-13|2019-03-03 05:35:54|\n",
      "|a48e9d07b409708c5...|       BJFH-14|2019-03-03 05:54:47|\n",
      "|a48e9d07b409708c5...|       BJFL-83|2019-03-03 15:08:45|\n",
      "|a48e9d07b409708c5...|       BJFF-67|2019-03-03 15:18:27|\n",
      "|cee991f606e867cd3...|       CJRH-10|2019-03-02 17:08:36|\n",
      "|cee991f606e867cd3...|       CJRH-10|2019-03-02 17:08:47|\n",
      "|cee991f606e867cd3...|       CJRH-10|2019-03-02 17:08:55|\n",
      "|cee991f606e867cd3...|       CJRB-88|2019-03-02 19:22:55|\n",
      "|cee991f606e867cd3...|       CJRB-88|2019-03-02 19:23:00|\n",
      "|cee991f606e867cd3...|       CJRB-88|2019-03-02 19:23:06|\n",
      "|cee991f606e867cd3...|       CJRB-88|2019-03-02 19:23:10|\n",
      "|cee991f606e867cd3...|       CJRD-20|2019-03-03 09:48:51|\n",
      "+--------------------+--------------+-------------------+\n",
      "\n"
     ]
    }
   ],
   "source": [
    "query = \"\"\"\n",
    "    SELECT * \n",
    "    FROM df\n",
    "    ORDER BY nrotarjeta, fechahoratrx\n",
    "\"\"\"\n",
    "sqlContext.sql(query).show(40)"
   ]
  },
  {
   "cell_type": "code",
   "execution_count": null,
   "metadata": {},
   "outputs": [],
   "source": [
    "query = \"\"\"\n",
    "    SELECT *, \n",
    "        RANK() OVER (\n",
    "            PARTITION BY nrotarjeta\n",
    "            ORDER BY fechahoratrx\n",
    "            RANGE BETWEEN INTERVAL 5 MINUTES PRECEDING AND CURRENT ROW\n",
    "        ) AS count\n",
    "    FROM df\n",
    "\"\"\"\n",
    "result = sqlContext.sql(query)\n",
    "result.show(40)"
   ]
  },
  {
   "cell_type": "code",
   "execution_count": 28,
   "metadata": {},
   "outputs": [],
   "source": [
    "df = df.withColumn('timestamp', df['fechahoratrx'].astype('Timestamp').cast(\"long\"))"
   ]
  },
  {
   "cell_type": "code",
   "execution_count": 29,
   "metadata": {},
   "outputs": [
    {
     "name": "stdout",
     "output_type": "stream",
     "text": [
      "+--------------------+--------------+-------------------+----------+\n",
      "|          nrotarjeta|   nombresitio|       fechahoratrx| timestamp|\n",
      "+--------------------+--------------+-------------------+----------+\n",
      "|a48e9d07b409708c5...|       BJFJ-91|2019-03-02 05:58:14|1551517094|\n",
      "|27d9e5f3e90685047...|       CJRP-81|2019-03-02 07:09:28|1551521368|\n",
      "|27d9e5f3e90685047...|La Cisterna L2|2019-03-02 07:27:05|1551522425|\n",
      "|a48e9d07b409708c5...|       BJFF-70|2019-03-02 15:19:31|1551550771|\n",
      "|a48e9d07b409708c5...|       ZU-5557|2019-03-02 15:33:56|1551551636|\n",
      "|27d9e5f3e90685047...|       BJFK-11|2019-03-02 15:45:15|1551552315|\n",
      "|a48e9d07b409708c5...|       WC-1129|2019-03-02 15:50:18|1551552618|\n",
      "|27d9e5f3e90685047...|       BJFK-60|2019-03-02 15:55:39|1551552939|\n",
      "|cee991f606e867cd3...|       CJRH-10|2019-03-02 17:08:36|1551557316|\n",
      "|cee991f606e867cd3...|       CJRH-10|2019-03-02 17:08:47|1551557327|\n",
      "|cee991f606e867cd3...|       CJRH-10|2019-03-02 17:08:55|1551557335|\n",
      "|27d9e5f3e90685047...|       WA-9796|2019-03-02 18:01:24|1551560484|\n",
      "|cee991f606e867cd3...|       CJRB-88|2019-03-02 19:22:55|1551565375|\n",
      "|cee991f606e867cd3...|       CJRB-88|2019-03-02 19:23:00|1551565380|\n",
      "|cee991f606e867cd3...|       CJRB-88|2019-03-02 19:23:06|1551565386|\n",
      "|cee991f606e867cd3...|       CJRB-88|2019-03-02 19:23:10|1551565390|\n",
      "|533515c696a82329f...|       FLXF-49|2019-03-02 19:49:19|1551566959|\n",
      "|533515c696a82329f...|       FLXJ-54|2019-03-02 20:07:23|1551568043|\n",
      "|a48e9d07b409708c5...|       CJRL-27|2019-03-03 05:09:55|1551600595|\n",
      "|a48e9d07b409708c5...|       CJRL-13|2019-03-03 05:35:54|1551602154|\n",
      "+--------------------+--------------+-------------------+----------+\n",
      "only showing top 20 rows\n",
      "\n"
     ]
    }
   ],
   "source": [
    "df.show()"
   ]
  },
  {
   "cell_type": "code",
   "execution_count": 30,
   "metadata": {},
   "outputs": [],
   "source": [
    "w = Window.partitionBy('nrotarjeta').orderBy('timestamp').rangeBetween(-60 * 60 * 2, 0)"
   ]
  },
  {
   "cell_type": "code",
   "execution_count": 31,
   "metadata": {},
   "outputs": [],
   "source": [
    "df = df.withColumn('trips', F.count('timestamp').over(w))"
   ]
  },
  {
   "cell_type": "code",
   "execution_count": 33,
   "metadata": {},
   "outputs": [
    {
     "name": "stdout",
     "output_type": "stream",
     "text": [
      "+--------------------+--------------+-------------------+----------+-----------+\n",
      "|          nrotarjeta|   nombresitio|       fechahoratrx| timestamp|occurrences|\n",
      "+--------------------+--------------+-------------------+----------+-----------+\n",
      "|27d9e5f3e90685047...|       CJRP-81|2019-03-02 07:09:28|1551521368|          1|\n",
      "|27d9e5f3e90685047...|La Cisterna L2|2019-03-02 07:27:05|1551522425|          2|\n",
      "|27d9e5f3e90685047...|       BJFK-11|2019-03-02 15:45:15|1551552315|          1|\n",
      "|27d9e5f3e90685047...|       BJFK-60|2019-03-02 15:55:39|1551552939|          2|\n",
      "|27d9e5f3e90685047...|       WA-9796|2019-03-02 18:01:24|1551560484|          1|\n",
      "|27d9e5f3e90685047...|       BJFK-37|2019-03-03 10:22:03|1551619323|          1|\n",
      "|27d9e5f3e90685047...|       WB-9729|2019-03-03 10:43:02|1551620582|          2|\n",
      "|27d9e5f3e90685047...|       BJFG-89|2019-03-03 13:11:28|1551629488|          1|\n",
      "|27d9e5f3e90685047...|       CJRR-69|2019-03-03 15:39:14|1551638354|          1|\n",
      "|27d9e5f3e90685047...|       BJFF-99|2019-03-03 16:22:20|1551640940|          2|\n",
      "|27d9e5f3e90685047...|       BJFF-99|2019-03-03 16:45:41|1551642341|          3|\n",
      "|27d9e5f3e90685047...|       RM-0812|2019-03-03 17:10:27|1551643827|          4|\n",
      "|533515c696a82329f...|       FLXF-49|2019-03-02 19:49:19|1551566959|          1|\n",
      "|533515c696a82329f...|       FLXJ-54|2019-03-02 20:07:23|1551568043|          2|\n",
      "|533515c696a82329f...|       FLXF-86|2019-03-03 09:06:25|1551614785|          1|\n",
      "|533515c696a82329f...|       FLXW-92|2019-03-03 09:28:51|1551616131|          2|\n",
      "|533515c696a82329f...|       FLXX-58|2019-03-03 12:30:09|1551627009|          1|\n",
      "|533515c696a82329f...|       FLXY-34|2019-03-03 13:10:21|1551629421|          2|\n",
      "|533515c696a82329f...|       FLXD-97|2019-03-03 15:38:47|1551638327|          1|\n",
      "|533515c696a82329f...|       FLXL-13|2019-03-03 17:04:46|1551643486|          2|\n",
      "|533515c696a82329f...|       FDJX-76|2019-03-03 17:37:50|1551645470|          3|\n",
      "|a48e9d07b409708c5...|       BJFJ-91|2019-03-02 05:58:14|1551517094|          1|\n",
      "|a48e9d07b409708c5...|       BJFF-70|2019-03-02 15:19:31|1551550771|          1|\n",
      "|a48e9d07b409708c5...|       ZU-5557|2019-03-02 15:33:56|1551551636|          2|\n",
      "|a48e9d07b409708c5...|       WC-1129|2019-03-02 15:50:18|1551552618|          3|\n",
      "|a48e9d07b409708c5...|       CJRL-27|2019-03-03 05:09:55|1551600595|          1|\n",
      "|a48e9d07b409708c5...|       CJRL-13|2019-03-03 05:35:54|1551602154|          2|\n",
      "|a48e9d07b409708c5...|       BJFH-14|2019-03-03 05:54:47|1551603287|          3|\n",
      "|a48e9d07b409708c5...|       BJFL-83|2019-03-03 15:08:45|1551636525|          1|\n",
      "|a48e9d07b409708c5...|       BJFF-67|2019-03-03 15:18:27|1551637107|          2|\n",
      "|cee991f606e867cd3...|       CJRH-10|2019-03-02 17:08:36|1551557316|          1|\n",
      "|cee991f606e867cd3...|       CJRH-10|2019-03-02 17:08:47|1551557327|          2|\n",
      "|cee991f606e867cd3...|       CJRH-10|2019-03-02 17:08:55|1551557335|          3|\n",
      "|cee991f606e867cd3...|       CJRB-88|2019-03-02 19:22:55|1551565375|          1|\n",
      "|cee991f606e867cd3...|       CJRB-88|2019-03-02 19:23:00|1551565380|          2|\n",
      "|cee991f606e867cd3...|       CJRB-88|2019-03-02 19:23:06|1551565386|          3|\n",
      "|cee991f606e867cd3...|       CJRB-88|2019-03-02 19:23:10|1551565390|          4|\n",
      "|cee991f606e867cd3...|       CJRD-20|2019-03-03 09:48:51|1551617331|          1|\n",
      "+--------------------+--------------+-------------------+----------+-----------+\n",
      "\n"
     ]
    }
   ],
   "source": [
    "df.orderBy([\"nrotarjeta\", \"fechahoratrx\"]).show(40)"
   ]
  },
  {
   "cell_type": "code",
   "execution_count": null,
   "metadata": {},
   "outputs": [],
   "source": []
  }
 ],
 "metadata": {
  "kernelspec": {
   "display_name": "transport",
   "language": "python",
   "name": "transport"
  },
  "language_info": {
   "codemirror_mode": {
    "name": "ipython",
    "version": 3
   },
   "file_extension": ".py",
   "mimetype": "text/x-python",
   "name": "python",
   "nbconvert_exporter": "python",
   "pygments_lexer": "ipython3",
   "version": "3.6.7"
  }
 },
 "nbformat": 4,
 "nbformat_minor": 2
}
