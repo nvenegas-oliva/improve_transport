{
 "cells": [
  {
   "cell_type": "code",
   "execution_count": 1,
   "metadata": {},
   "outputs": [],
   "source": [
    "import findspark\n",
    "findspark.init()"
   ]
  },
  {
   "cell_type": "code",
   "execution_count": 2,
   "metadata": {},
   "outputs": [],
   "source": [
    "import os\n",
    "from io import BytesIO\n",
    "from zipfile import ZipFile\n",
    "from datetime import datetime\n",
    "import re\n",
    "from pyspark import SparkConf, SparkContext\n",
    "from pyspark.sql import SQLContext"
   ]
  },
  {
   "cell_type": "code",
   "execution_count": 3,
   "metadata": {},
   "outputs": [],
   "source": [
    "conf = SparkConf().setMaster(\"local[4]\").setAppName(\"transport\")\n",
    "sc = SparkContext(conf=conf)\n",
    "\n",
    "sqlContext = SQLContext(sc)"
   ]
  },
  {
   "cell_type": "code",
   "execution_count": 4,
   "metadata": {},
   "outputs": [],
   "source": [
    "def build_filename(raw_name):\n",
    "    day, from_day, to_day = re.findall(r'\\d+', raw_name)\n",
    "    return \"day=%s/from=%s/to=%s\" % (day, from_day, to_day)"
   ]
  },
  {
   "cell_type": "code",
   "execution_count": 5,
   "metadata": {},
   "outputs": [],
   "source": [
    "def extract_files(compressed_name, stream):\n",
    "    \"\"\"\n",
    "    Extract .csv files from a .zip file and load in different DataFrames.\n",
    "    \"\"\"\n",
    "    with BytesIO(stream) as tf:\n",
    "        tf.seek(0)        \n",
    "        # Read the file as a zipfile and process the members\n",
    "        with ZipFile(tf, mode='r') as zipf:\n",
    "            return [(build_filename(compressed_name + file_name), zipf.read(file_name)) for file_name in zipf.namelist()]"
   ]
  },
  {
   "cell_type": "code",
   "execution_count": 6,
   "metadata": {},
   "outputs": [],
   "source": [
    "# datetime.strptime(row[0], \"%d/%m/%Y %H:%M:%S\")\n",
    "def prepare_csv(file_name, table):\n",
    "    return list(map(lambda row: [file_name, row[0], int(row[1]), \n",
    "                                 row[2], int(row[3]), row[4], \n",
    "                                 row[5]], table)) "
   ]
  },
  {
   "cell_type": "code",
   "execution_count": 7,
   "metadata": {},
   "outputs": [
    {
     "name": "stdout",
     "output_type": "stream",
     "text": [
      "(3) PythonRDD[1] at RDD at PythonRDD.scala:53 []\n",
      " |  datasets/test-folder/*.zip BinaryFileRDD[0] at binaryFiles at NativeMethodAccessorImpl.java:0 []\n"
     ]
    }
   ],
   "source": [
    "path = 'datasets/test-folder/*.zip'\n",
    "rdd = sc.binaryFiles(path).flatMap(lambda a: extract_files(a[0], a[1]))\n",
    "print(rdd.toDebugString().decode())"
   ]
  },
  {
   "cell_type": "code",
   "execution_count": 8,
   "metadata": {},
   "outputs": [
    {
     "data": {
      "text/plain": [
       "3"
      ]
     },
     "execution_count": 8,
     "metadata": {},
     "output_type": "execute_result"
    }
   ],
   "source": [
    "rdd.getNumPartitions()"
   ]
  },
  {
   "cell_type": "code",
   "execution_count": 9,
   "metadata": {},
   "outputs": [],
   "source": [
    "# Decode bytes and convert it in a list of strings\n",
    "rdd = rdd.mapValues(lambda file: BytesIO(file).read().decode('cp1252').split('\\n'))"
   ]
  },
  {
   "cell_type": "code",
   "execution_count": 10,
   "metadata": {},
   "outputs": [],
   "source": [
    "# Convert string row to list row\n",
    "rdd = rdd.mapValues(lambda a: list(map(lambda row: row.split(\";\")[:-1], a)))"
   ]
  },
  {
   "cell_type": "code",
   "execution_count": 11,
   "metadata": {},
   "outputs": [],
   "source": [
    "# Drop header and last (and empty) row\n",
    "rdd = rdd.mapValues(lambda table: table[1:-1])"
   ]
  },
  {
   "cell_type": "raw",
   "metadata": {},
   "source": [
    "# Change type of columns\n",
    "rdd = rdd.map(lambda a: prepare_csv(a[0], a[1]))"
   ]
  },
  {
   "cell_type": "code",
   "execution_count": 12,
   "metadata": {},
   "outputs": [],
   "source": [
    "rdd = rdd.flatMap(lambda a: prepare_csv(a[0], a[1]))"
   ]
  },
  {
   "cell_type": "code",
   "execution_count": 15,
   "metadata": {},
   "outputs": [],
   "source": [
    "header = ['FILE_NAME',\n",
    "            'FECHAHORATRX',\n",
    "            'CODIGOENTIDAD',\n",
    "            'NOMBREENTIDAD',\n",
    "            'CODIGOSITIO',\n",
    "            'NOMBRESITIO',\n",
    "            'NROTARJETA']\n",
    "header = list(map(lambda a: a.lower(), header))"
   ]
  },
  {
   "cell_type": "code",
   "execution_count": 16,
   "metadata": {},
   "outputs": [
    {
     "name": "stdout",
     "output_type": "stream",
     "text": [
      "CPU times: user 245 ms, sys: 26.6 ms, total: 272 ms\n",
      "Wall time: 48.9 s\n"
     ]
    }
   ],
   "source": [
    "%%time\n",
    "df = rdd.toDF(header)"
   ]
  },
  {
   "cell_type": "code",
   "execution_count": 17,
   "metadata": {},
   "outputs": [
    {
     "name": "stdout",
     "output_type": "stream",
     "text": [
      "root\n",
      " |-- file_name: string (nullable = true)\n",
      " |-- fechahoratrx: string (nullable = true)\n",
      " |-- codigoentidad: long (nullable = true)\n",
      " |-- nombreentidad: string (nullable = true)\n",
      " |-- codigositio: long (nullable = true)\n",
      " |-- nombresitio: string (nullable = true)\n",
      " |-- nrotarjeta: string (nullable = true)\n",
      "\n"
     ]
    }
   ],
   "source": [
    "df.printSchema()"
   ]
  },
  {
   "cell_type": "code",
   "execution_count": 18,
   "metadata": {},
   "outputs": [
    {
     "name": "stdout",
     "output_type": "stream",
     "text": [
      "+--------------------+-------------------+-------------+-------------+-----------+-----------+--------------------+\n",
      "|           file_name|       fechahoratrx|codigoentidad|nombreentidad|codigositio|nombresitio|          nrotarjeta|\n",
      "+--------------------+-------------------+-------------+-------------+-----------+-----------+--------------------+\n",
      "|day=20190330/from...|04/03/2019 08:03:18|            4| U4 - Express|       5481|    ZN-6170|b53396bd54f1a9074...|\n",
      "|day=20190330/from...|04/03/2019 08:04:36|            4| U4 - Express|       5481|    ZN-6170|e36d3cc7c504835ee...|\n",
      "|day=20190330/from...|04/03/2019 08:11:24|            4| U4 - Express|       5481|    ZN-6170|798decfe9fba0f696...|\n",
      "|day=20190330/from...|04/03/2019 08:16:33|            4| U4 - Express|       5481|    ZN-6170|041eccfdbe14a4864...|\n",
      "|day=20190330/from...|04/03/2019 08:28:24|            4| U4 - Express|       5481|    ZN-6170|617dea27d7ec8be7f...|\n",
      "|day=20190330/from...|04/03/2019 08:34:14|            4| U4 - Express|       5481|    ZN-6170|8c8b6eb2c34befa2f...|\n",
      "|day=20190330/from...|04/03/2019 08:39:49|            4| U4 - Express|       5481|    ZN-6170|3c5211b4589104bda...|\n",
      "|day=20190330/from...|04/03/2019 08:57:07|            4| U4 - Express|       5481|    ZN-6170|5082549ae2ef07bd4...|\n",
      "|day=20190330/from...|04/03/2019 09:01:01|            4| U4 - Express|       5481|    ZN-6170|c784eb9ce1a22482c...|\n",
      "|day=20190330/from...|04/03/2019 09:04:57|            4| U4 - Express|       5481|    ZN-6170|df3477d997529650c...|\n",
      "|day=20190330/from...|04/03/2019 09:05:01|            4| U4 - Express|       5481|    ZN-6170|0264487a636565cdc...|\n",
      "|day=20190330/from...|04/03/2019 09:06:28|            4| U4 - Express|       5481|    ZN-6170|8cbe375ea6d4fab7c...|\n",
      "|day=20190330/from...|04/03/2019 09:19:36|            4| U4 - Express|       5481|    ZN-6170|723bd99ffb3a35016...|\n",
      "|day=20190330/from...|04/03/2019 09:28:38|            4| U4 - Express|       5481|    ZN-6170|2015dd823f981fda5...|\n",
      "|day=20190330/from...|12/03/2019 13:24:22|            4| U4 - Express|       4664|    ZN-5413|88acd1b972872ebb2...|\n",
      "|day=20190330/from...|12/03/2019 13:24:23|            4| U4 - Express|       4664|    ZN-5413|42808d8f7da9dc616...|\n",
      "|day=20190330/from...|12/03/2019 13:26:41|            4| U4 - Express|       4664|    ZN-5413|21ca91fdd4225fa82...|\n",
      "|day=20190330/from...|12/03/2019 13:26:49|            4| U4 - Express|       4664|    ZN-5413|d2fc6f95313e390c7...|\n",
      "|day=20190330/from...|12/03/2019 13:28:38|            4| U4 - Express|       4664|    ZN-5413|24460e60b765ae8a3...|\n",
      "|day=20190330/from...|12/03/2019 13:28:40|            4| U4 - Express|       4664|    ZN-5413|ccd6b28ecc1ba71f7...|\n",
      "+--------------------+-------------------+-------------+-------------+-----------+-----------+--------------------+\n",
      "only showing top 20 rows\n",
      "\n",
      "CPU times: user 1.43 ms, sys: 8.81 ms, total: 10.2 ms\n",
      "Wall time: 46.9 s\n"
     ]
    }
   ],
   "source": [
    "%%time\n",
    "df.show()"
   ]
  },
  {
   "cell_type": "code",
   "execution_count": 19,
   "metadata": {},
   "outputs": [
    {
     "name": "stdout",
     "output_type": "stream",
     "text": [
      "CPU times: user 29.2 ms, sys: 68.8 ms, total: 97.9 ms\n",
      "Wall time: 3min 41s\n"
     ]
    }
   ],
   "source": [
    "%%time\n",
    "days = [file.file_name for file in df.select('file_name').distinct().collect()]\n",
    "days"
   ]
  },
  {
   "cell_type": "code",
   "execution_count": 20,
   "metadata": {},
   "outputs": [
    {
     "name": "stdout",
     "output_type": "stream",
     "text": [
      "CPU times: user 150 ms, sys: 1.11 s, total: 1.26 s\n",
      "Wall time: 44min 47s\n"
     ]
    }
   ],
   "source": [
    "%%time\n",
    "for directory in days:\n",
    "    if not os.path.exists(directory):\n",
    "        os.makedirs(directory)\n",
    "    df_day = df.select(df.columns[1:]).where(df.file_name == directory)\n",
    "    df_day.write.parquet(directory + \"/data.parquet\", compression=\"gzip\")"
   ]
  },
  {
   "cell_type": "code",
   "execution_count": null,
   "metadata": {},
   "outputs": [],
   "source": []
  }
 ],
 "metadata": {
  "kernelspec": {
   "display_name": "adl",
   "language": "python",
   "name": "adl"
  },
  "language_info": {
   "codemirror_mode": {
    "name": "ipython",
    "version": 3
   },
   "file_extension": ".py",
   "mimetype": "text/x-python",
   "name": "python",
   "nbconvert_exporter": "python",
   "pygments_lexer": "ipython3",
   "version": "3.6.7"
  }
 },
 "nbformat": 4,
 "nbformat_minor": 2
}
