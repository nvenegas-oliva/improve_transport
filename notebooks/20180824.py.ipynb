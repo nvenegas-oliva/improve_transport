{
 "cells": [
  {
   "cell_type": "code",
   "execution_count": 1,
   "metadata": {},
   "outputs": [],
   "source": [
    "import pandas as pd\n",
    "import matplotlib.pyplot as plt"
   ]
  },
  {
   "cell_type": "code",
   "execution_count": 2,
   "metadata": {},
   "outputs": [],
   "source": [
    "%matplotlib inline"
   ]
  },
  {
   "cell_type": "code",
   "execution_count": 3,
   "metadata": {},
   "outputs": [],
   "source": [
    "file_path = '../datasets/dynamodb_20180823.json'"
   ]
  },
  {
   "cell_type": "code",
   "execution_count": 7,
   "metadata": {},
   "outputs": [],
   "source": [
    "df = pd.read_json(file_path)"
   ]
  },
  {
   "cell_type": "code",
   "execution_count": 8,
   "metadata": {},
   "outputs": [
    {
     "data": {
      "text/plain": [
       "(array([1004., 1042., 1245., 1084., 1229., 1279., 1306., 1267., 1350.,\n",
       "        1363., 1439., 1490., 1403., 1646., 1658., 1742., 1572., 1718.,\n",
       "        1751., 1859., 1763., 1977., 1876., 1961., 1869., 1795., 1918.,\n",
       "        1844., 1992., 2285.]),\n",
       " array([20000218.        , 20166668.13333333, 20333118.26666667,\n",
       "        20499568.4       , 20666018.53333334, 20832468.66666667,\n",
       "        20998918.8       , 21165368.93333333, 21331819.06666667,\n",
       "        21498269.2       , 21664719.33333333, 21831169.46666666,\n",
       "        21997619.6       , 22164069.73333333, 22330519.86666667,\n",
       "        22496970.        , 22663420.13333333, 22829870.26666667,\n",
       "        22996320.4       , 23162770.53333333, 23329220.66666667,\n",
       "        23495670.8       , 23662120.93333333, 23828571.06666667,\n",
       "        23995021.2       , 24161471.33333333, 24327921.46666667,\n",
       "        24494371.6       , 24660821.73333333, 24827271.86666667,\n",
       "        24993722.        ]),\n",
       " <a list of 30 Patch objects>)"
      ]
     },
     "execution_count": 8,
     "metadata": {},
     "output_type": "execute_result"
    },
    {
     "data": {
      "image/png": "[encoded data removed]",
      "text/plain": [
       "<Figure size 864x576 with 1 Axes>"
      ]
     },
     "metadata": {},
     "output_type": "display_data"
    }
   ],
   "source": [
    "with_trips = df[df['status'] == 'OK']['number']\n",
    "len(with_trips)\n",
    "plt.figure(figsize=(12, 8))\n",
    "plt.hist(with_trips, bins=30)"
   ]
  },
  {
   "cell_type": "code",
   "execution_count": null,
   "metadata": {},
   "outputs": [],
   "source": []
  }
 ],
 "metadata": {
  "kernelspec": {
   "display_name": "improve",
   "language": "python",
   "name": "improve"
  },
  "language_info": {
   "codemirror_mode": {
    "name": "ipython",
    "version": 3
   },
   "file_extension": ".py",
   "mimetype": "text/x-python",
   "name": "python",
   "nbconvert_exporter": "python",
   "pygments_lexer": "ipython3",
   "version": "3.6.5"
  }
 },
 "nbformat": 4,
 "nbformat_minor": 2
}
