{
 "cells": [
  {
   "cell_type": "code",
   "execution_count": 1,
   "metadata": {},
   "outputs": [],
   "source": [
    "import pandas as pd"
   ]
  },
  {
   "cell_type": "code",
   "execution_count": 2,
   "metadata": {},
   "outputs": [],
   "source": [
    "file_path = '../datasets/dynamodb_20180823.json'"
   ]
  },
  {
   "cell_type": "code",
   "execution_count": 3,
   "metadata": {},
   "outputs": [],
   "source": [
    "df = pd.read_json(file_path)"
   ]
  },
  {
   "cell_type": "code",
   "execution_count": 4,
   "metadata": {},
   "outputs": [
    {
     "data": {
      "text/html": [
       "<div>\n",
       "<style scoped>\n",
       "    .dataframe tbody tr th:only-of-type {\n",
       "        vertical-align: middle;\n",
       "    }\n",
       "\n",
       "    .dataframe tbody tr th {\n",
       "        vertical-align: top;\n",
       "    }\n",
       "\n",
       "    .dataframe thead th {\n",
       "        text-align: right;\n",
       "    }\n",
       "</style>\n",
       "<table border=\"1\" class=\"dataframe\">\n",
       "  <thead>\n",
       "    <tr style=\"text-align: right;\">\n",
       "      <th></th>\n",
       "      <th>data</th>\n",
       "      <th>inquired</th>\n",
       "      <th>log</th>\n",
       "      <th>number</th>\n",
       "      <th>status</th>\n",
       "    </tr>\n",
       "  </thead>\n",
       "  <tbody>\n",
       "    <tr>\n",
       "      <th>0</th>\n",
       "      <td>{'summary': {'date_balance': '17-07-2018 09:14...</td>\n",
       "      <td>1533957279</td>\n",
       "      <td>{'active_contract': True, 'rut_required': False}</td>\n",
       "      <td>23569556</td>\n",
       "      <td>OK</td>\n",
       "    </tr>\n",
       "    <tr>\n",
       "      <th>1</th>\n",
       "      <td>{'summary': {'date_balance': '30-07-2018 09:10...</td>\n",
       "      <td>1533266814</td>\n",
       "      <td>{'active_contract': True, 'rut_required': False}</td>\n",
       "      <td>22024384</td>\n",
       "      <td>OK</td>\n",
       "    </tr>\n",
       "    <tr>\n",
       "      <th>2</th>\n",
       "      <td>{'summary': {'date_balance': '01-08-2018 18:10...</td>\n",
       "      <td>1534199113</td>\n",
       "      <td>{'active_contract': True, 'rut_required': False}</td>\n",
       "      <td>22559391</td>\n",
       "      <td>OK</td>\n",
       "    </tr>\n",
       "    <tr>\n",
       "      <th>3</th>\n",
       "      <td>{'summary': {'date_balance': '08-11-2016 14:49...</td>\n",
       "      <td>1533932867</td>\n",
       "      <td>{'active_contract': True, 'rut_required': False}</td>\n",
       "      <td>20271880</td>\n",
       "      <td>without_trips</td>\n",
       "    </tr>\n",
       "    <tr>\n",
       "      <th>4</th>\n",
       "      <td>{'summary': {'date_balance': '26-07-2018 17:47...</td>\n",
       "      <td>1532783871</td>\n",
       "      <td>{'active_contract': True, 'rut_required': False}</td>\n",
       "      <td>23899110</td>\n",
       "      <td>OK</td>\n",
       "    </tr>\n",
       "  </tbody>\n",
       "</table>\n",
       "</div>"
      ],
      "text/plain": [
       "                                                data    inquired  \\\n",
       "0  {'summary': {'date_balance': '17-07-2018 09:14...  1533957279   \n",
       "1  {'summary': {'date_balance': '30-07-2018 09:10...  1533266814   \n",
       "2  {'summary': {'date_balance': '01-08-2018 18:10...  1534199113   \n",
       "3  {'summary': {'date_balance': '08-11-2016 14:49...  1533932867   \n",
       "4  {'summary': {'date_balance': '26-07-2018 17:47...  1532783871   \n",
       "\n",
       "                                                log    number         status  \n",
       "0  {'active_contract': True, 'rut_required': False}  23569556             OK  \n",
       "1  {'active_contract': True, 'rut_required': False}  22024384             OK  \n",
       "2  {'active_contract': True, 'rut_required': False}  22559391             OK  \n",
       "3  {'active_contract': True, 'rut_required': False}  20271880  without_trips  \n",
       "4  {'active_contract': True, 'rut_required': False}  23899110             OK  "
      ]
     },
     "execution_count": 4,
     "metadata": {},
     "output_type": "execute_result"
    }
   ],
   "source": [
    "df.head()"
   ]
  },
  {
   "cell_type": "code",
   "execution_count": 16,
   "metadata": {},
   "outputs": [
    {
     "name": "stdout",
     "output_type": "stream",
     "text": [
      "rate OK = 0.46\n"
     ]
    }
   ],
   "source": [
    "rate_ok = len(df[df['status'] == 'OK']) / len(df)\n",
    "print(\"rate OK = %.2f\" % rate_ok)"
   ]
  },
  {
   "cell_type": "code",
   "execution_count": 17,
   "metadata": {},
   "outputs": [
    {
     "name": "stdout",
     "output_type": "stream",
     "text": [
      "rate without_trips = 0.52\n"
     ]
    }
   ],
   "source": [
    "rate_without_trips = len(df[df['status'] == 'without_trips']) / len(df)\n",
    "print(\"rate without_trips = %.2f\" % rate_without_trips)"
   ]
  },
  {
   "cell_type": "code",
   "execution_count": 19,
   "metadata": {},
   "outputs": [
    {
     "name": "stdout",
     "output_type": "stream",
     "text": [
      "rate others = 0.01203\n"
     ]
    }
   ],
   "source": [
    "rate_others = 1 - (rate_ok + rate_without_trips) \n",
    "print(\"rate others = %.5f\" % rate_others)"
   ]
  },
  {
   "cell_type": "code",
   "execution_count": null,
   "metadata": {},
   "outputs": [],
   "source": []
  }
 ],
 "metadata": {
  "kernelspec": {
   "display_name": "improve",
   "language": "python",
   "name": "improve"
  },
  "language_info": {
   "codemirror_mode": {
    "name": "ipython",
    "version": 3
   },
   "file_extension": ".py",
   "mimetype": "text/x-python",
   "name": "python",
   "nbconvert_exporter": "python",
   "pygments_lexer": "ipython3",
   "version": "3.6.5"
  }
 },
 "nbformat": 4,
 "nbformat_minor": 2
}
