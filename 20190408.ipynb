{
 "cells": [
  {
   "cell_type": "code",
   "execution_count": 1,
   "metadata": {},
   "outputs": [],
   "source": [
    "import findspark\n",
    "findspark.init()"
   ]
  },
  {
   "cell_type": "code",
   "execution_count": 2,
   "metadata": {},
   "outputs": [],
   "source": [
    "from pyspark import SparkConf, SparkContext\n",
    "from pyspark.sql import SQLContext"
   ]
  },
  {
   "cell_type": "code",
   "execution_count": 3,
   "metadata": {},
   "outputs": [],
   "source": [
    "conf = SparkConf().setMaster(\"local[4]\").setAppName(\"another\")\n",
    "sc = SparkContext(conf=conf)\n",
    "\n",
    "sqlContext = SQLContext(sc)"
   ]
  },
  {
   "cell_type": "code",
   "execution_count": 4,
   "metadata": {},
   "outputs": [],
   "source": [
    "rdd = sc.parallelize([(1,2),(3,4),(3,6)])"
   ]
  },
  {
   "cell_type": "code",
   "execution_count": 5,
   "metadata": {},
   "outputs": [
    {
     "name": "stdout",
     "output_type": "stream",
     "text": [
      "(1, 2)\n",
      "(3, 10)\n"
     ]
    }
   ],
   "source": [
    "for val in rdd.reduceByKey(lambda x, y: x+y).collect():\n",
    "    print(val)"
   ]
  },
  {
   "cell_type": "code",
   "execution_count": 6,
   "metadata": {},
   "outputs": [
    {
     "name": "stdout",
     "output_type": "stream",
     "text": [
      "1 2\n",
      "3 4\n",
      "3 6\n"
     ]
    }
   ],
   "source": [
    "for val, list in rdd.groupByKey().collect():\n",
    "    for li in list:\n",
    "        print(\"{} {}\".format(val, li))"
   ]
  },
  {
   "cell_type": "code",
   "execution_count": 7,
   "metadata": {},
   "outputs": [
    {
     "name": "stdout",
     "output_type": "stream",
     "text": [
      "1 3\n",
      "3 5\n",
      "3 7\n"
     ]
    }
   ],
   "source": [
    "for key, val in rdd.mapValues(lambda x: x+1).collect():\n",
    "    print(\"{} {}\".format(key,val))"
   ]
  },
  {
   "cell_type": "code",
   "execution_count": 8,
   "metadata": {},
   "outputs": [
    {
     "name": "stdout",
     "output_type": "stream",
     "text": [
      "2\n",
      "4\n",
      "6\n"
     ]
    }
   ],
   "source": [
    "for val in rdd.values().collect():\n",
    "    print(\"{}\".format(val))"
   ]
  },
  {
   "cell_type": "code",
   "execution_count": 9,
   "metadata": {},
   "outputs": [],
   "source": [
    "for val in rdd.values().collect():\n",
    "    val = val + 1"
   ]
  },
  {
   "cell_type": "code",
   "execution_count": 10,
   "metadata": {},
   "outputs": [
    {
     "data": {
      "text/plain": [
       "[(1, 2), (3, 4), (3, 6)]"
      ]
     },
     "execution_count": 10,
     "metadata": {},
     "output_type": "execute_result"
    }
   ],
   "source": [
    "rdd.collect()"
   ]
  },
  {
   "cell_type": "code",
   "execution_count": 11,
   "metadata": {},
   "outputs": [
    {
     "data": {
      "text/plain": [
       "[(1, 3), (3, 5), (3, 7)]"
      ]
     },
     "execution_count": 11,
     "metadata": {},
     "output_type": "execute_result"
    }
   ],
   "source": [
    "rdd.mapValues(lambda s: s + 1).collect()"
   ]
  },
  {
   "cell_type": "code",
   "execution_count": 12,
   "metadata": {},
   "outputs": [
    {
     "data": {
      "text/plain": [
       "[(1, 3), (3, 5), (3, 7)]"
      ]
     },
     "execution_count": 12,
     "metadata": {},
     "output_type": "execute_result"
    }
   ],
   "source": [
    "rdd.map(lambda a: (a[0], a[1] + 1)).collect()"
   ]
  },
  {
   "cell_type": "code",
   "execution_count": 20,
   "metadata": {},
   "outputs": [
    {
     "data": {
      "text/plain": [
       "[(1, range(2, 3)), (3, range(4, 3)), (3, range(6, 3))]"
      ]
     },
     "execution_count": 20,
     "metadata": {},
     "output_type": "execute_result"
    }
   ],
   "source": [
    "rdd.map(lambda a: (a[0], range(a[1], 3))).collect()"
   ]
  },
  {
   "cell_type": "code",
   "execution_count": 6,
   "metadata": {},
   "outputs": [],
   "source": [
    "rdd = sc.parallelize([3,4,5]).map(lambda x:  (x, [*range(x + 3)]))"
   ]
  },
  {
   "cell_type": "code",
   "execution_count": 12,
   "metadata": {},
   "outputs": [
    {
     "data": {
      "text/plain": [
       "[(3, [0, 1, 2, 3, 4, 5]),\n",
       " (4, [0, 1, 2, 3, 4, 5, 6]),\n",
       " (5, [0, 1, 2, 3, 4, 5, 6, 7])]"
      ]
     },
     "execution_count": 12,
     "metadata": {},
     "output_type": "execute_result"
    }
   ],
   "source": [
    "rdd.collect()"
   ]
  },
  {
   "cell_type": "code",
   "execution_count": 15,
   "metadata": {},
   "outputs": [],
   "source": [
    "def mapper(l):\n",
    "    return list(map(lambda a: a + 1, l))"
   ]
  },
  {
   "cell_type": "code",
   "execution_count": 9,
   "metadata": {},
   "outputs": [
    {
     "data": {
      "text/plain": [
       "[0, 1, 2, 3, 4, 5, 6]"
      ]
     },
     "execution_count": 9,
     "metadata": {},
     "output_type": "execute_result"
    }
   ],
   "source": [
    "list(map(lambda a: a, [0, 1, 2, 3, 4, 5, 6]))"
   ]
  },
  {
   "cell_type": "code",
   "execution_count": 16,
   "metadata": {},
   "outputs": [
    {
     "data": {
      "text/plain": [
       "[(3, [1, 2, 3, 4, 5, 6]),\n",
       " (4, [1, 2, 3, 4, 5, 6, 7]),\n",
       " (5, [1, 2, 3, 4, 5, 6, 7, 8])]"
      ]
     },
     "execution_count": 16,
     "metadata": {},
     "output_type": "execute_result"
    }
   ],
   "source": [
    "rdd.mapValues(lambda z: mapper(z)).collect()"
   ]
  },
  {
   "cell_type": "code",
   "execution_count": null,
   "metadata": {},
   "outputs": [],
   "source": [
    "def mapper(entry):\n",
    "    return (entry[0],map(lambda x : x[1],entry[1]))\n",
    "\n",
    "data = [(\"key1\", [('',\"val1\"),('',\"val2\")]),(\"key2\",[('',\"val3\"),('',\"val2\"),('',\"val4\")])]\n",
    "\n",
    "rdd = sc.parallelize(data)\n",
    "\n",
    "rdd2 = rdd.map(lambda x : mapper(x))\n",
    "\n",
    "rdd2.collect()\n",
    "# [('key1', ['val1', 'val2']), ('key2', ['val3', 'val2', 'val4'])]"
   ]
  },
  {
   "cell_type": "code",
   "execution_count": 13,
   "metadata": {},
   "outputs": [],
   "source": [
    "data = [(\"zip-1\", [('file-11',\"val-11\"), ('file-12',\"val-12\"), ('file-13',\"val-13\")]),\n",
    "       (\"zip-2\", [('file-21',\"val-21\"), ('file-22',\"val-22\"), ('file-23',\"val-23\")]), \n",
    "       (\"zip-3\", [('file-31',\"val-31\"), ('file-32',\"val-32\"), ('file-33',\"val-33\")])]"
   ]
  },
  {
   "cell_type": "code",
   "execution_count": 14,
   "metadata": {},
   "outputs": [],
   "source": [
    "rdd = sc.parallelize(data)"
   ]
  },
  {
   "cell_type": "code",
   "execution_count": 15,
   "metadata": {},
   "outputs": [
    {
     "data": {
      "text/plain": [
       "[('zip-1',\n",
       "  [('file-11', 'val-11'), ('file-12', 'val-12'), ('file-13', 'val-13')]),\n",
       " ('zip-2',\n",
       "  [('file-21', 'val-21'), ('file-22', 'val-22'), ('file-23', 'val-23')]),\n",
       " ('zip-3',\n",
       "  [('file-31', 'val-31'), ('file-32', 'val-32'), ('file-33', 'val-33')])]"
      ]
     },
     "execution_count": 15,
     "metadata": {},
     "output_type": "execute_result"
    }
   ],
   "source": [
    "rdd.collect()"
   ]
  },
  {
   "cell_type": "code",
   "execution_count": null,
   "metadata": {},
   "outputs": [],
   "source": [
    "def mapper(files, name_file):\n",
    "    return list(map(, files))"
   ]
  },
  {
   "cell_type": "code",
   "execution_count": 48,
   "metadata": {},
   "outputs": [
    {
     "data": {
      "text/plain": [
       "[[('file-11', 'val-11'), ('file-12', 'val-12'), ('file-13', 'val-13')],\n",
       " [('file-21', 'val-21'), ('file-22', 'val-22'), ('file-23', 'val-23')],\n",
       " [('file-31', 'val-31'), ('file-32', 'val-32'), ('file-33', 'val-33')]]"
      ]
     },
     "execution_count": 48,
     "metadata": {},
     "output_type": "execute_result"
    }
   ],
   "source": [
    "rdd.map(lambda a: a[1]).collect()"
   ]
  },
  {
   "cell_type": "code",
   "execution_count": 25,
   "metadata": {},
   "outputs": [],
   "source": [
    "def mapper(comp_files):\n",
    "    return list(map(lambda list_file: list_file[0] , comp_files))    "
   ]
  },
  {
   "cell_type": "code",
   "execution_count": 39,
   "metadata": {},
   "outputs": [
    {
     "data": {
      "text/plain": [
       "[[('file-11', 'val-11'), ('file-12', 'val-12'), ('file-13', 'val-13')],\n",
       " [('file-21', 'val-21'), ('file-22', 'val-22'), ('file-23', 'val-23')],\n",
       " [('file-31', 'val-31'), ('file-32', 'val-32'), ('file-33', 'val-33')]]"
      ]
     },
     "execution_count": 39,
     "metadata": {},
     "output_type": "execute_result"
    }
   ],
   "source": [
    "test = [[('file-11', 'val-11'), ('file-12', 'val-12'), ('file-13', 'val-13')],\n",
    " [('file-21', 'val-21'), ('file-22', 'val-22'), ('file-23', 'val-23')],\n",
    " [('file-31', 'val-31'), ('file-32', 'val-32'), ('file-33', 'val-33')]]\n",
    "test"
   ]
  },
  {
   "cell_type": "code",
   "execution_count": 38,
   "metadata": {},
   "outputs": [
    {
     "data": {
      "text/plain": [
       "[[('file-11', 'val-11'), ('file-12', 'val-12'), ('file-13', 'val-13')],\n",
       " [('file-21', 'val-21'), ('file-22', 'val-22'), ('file-23', 'val-23')],\n",
       " [('file-31', 'val-31'), ('file-32', 'val-32'), ('file-33', 'val-33')]]"
      ]
     },
     "execution_count": 38,
     "metadata": {},
     "output_type": "execute_result"
    }
   ],
   "source": [
    "for "
   ]
  },
  {
   "cell_type": "code",
   "execution_count": null,
   "metadata": {},
   "outputs": [],
   "source": []
  },
  {
   "cell_type": "code",
   "execution_count": 33,
   "metadata": {},
   "outputs": [
    {
     "name": "stdout",
     "output_type": "stream",
     "text": [
      "[('file-11', 'val-11'), ('file-12', 'val-12'), ('file-13', 'val-13')]\n",
      "val-11\n",
      "val-12\n",
      "val-13\n",
      "[('file-21', 'val-21'), ('file-22', 'val-22'), ('file-23', 'val-23')]\n",
      "val-21\n",
      "val-22\n",
      "val-23\n",
      "[('file-31', 'val-31'), ('file-32', 'val-32'), ('file-33', 'val-33')]\n",
      "val-31\n",
      "val-32\n",
      "val-33\n"
     ]
    }
   ],
   "source": [
    "for l in test:\n",
    "    print(l)\n",
    "    for j in l:\n",
    "        print(j[1])"
   ]
  },
  {
   "cell_type": "code",
   "execution_count": null,
   "metadata": {},
   "outputs": [],
   "source": []
  }
 ],
 "metadata": {
  "kernelspec": {
   "display_name": "adl",
   "language": "python",
   "name": "adl"
  },
  "language_info": {
   "codemirror_mode": {
    "name": "ipython",
    "version": 3
   },
   "file_extension": ".py",
   "mimetype": "text/x-python",
   "name": "python",
   "nbconvert_exporter": "python",
   "pygments_lexer": "ipython3",
   "version": "3.6.7"
  }
 },
 "nbformat": 4,
 "nbformat_minor": 2
}
